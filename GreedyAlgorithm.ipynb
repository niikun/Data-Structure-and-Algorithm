{
  "nbformat": 4,
  "nbformat_minor": 0,
  "metadata": {
    "colab": {
      "provenance": [],
      "authorship_tag": "ABX9TyPEfMcwwBuP+OI1yiTpO1bR",
      "include_colab_link": true
    },
    "kernelspec": {
      "name": "python3",
      "display_name": "Python 3"
    },
    "language_info": {
      "name": "python"
    }
  },
  "cells": [
    {
      "cell_type": "markdown",
      "metadata": {
        "id": "view-in-github",
        "colab_type": "text"
      },
      "source": [
        "<a href=\"https://colab.research.google.com/github/niikun/Data-Structure-and-Algorithm/blob/main/GreedyAlgorithm.ipynb\" target=\"_parent\"><img src=\"https://colab.research.google.com/assets/colab-badge.svg\" alt=\"Open In Colab\"/></a>"
      ]
    },
    {
      "cell_type": "markdown",
      "source": [
        "# knapsack\n",
        "- Input :  \n",
        "        weights w1,...wn and\n",
        "        walues v1,...vn\n",
        "        capacity W  \n",
        "- Output: the maximum total value of fractions of  items that fit into a knapsack capacity W"
      ],
      "metadata": {
        "id": "3MKpCwEnEloT"
      }
    },
    {
      "cell_type": "code",
      "execution_count": 54,
      "metadata": {
        "id": "Uv6wWIdUEktw"
      },
      "outputs": [],
      "source": [
        "import random\n",
        "W = 10\n",
        "weights =[round(random.random()*10,2) for i in range(10)]\n",
        "values = [round(random.random()*10,2) for i in range(10)]"
      ]
    },
    {
      "cell_type": "code",
      "source": [
        "print(weights,values)"
      ],
      "metadata": {
        "colab": {
          "base_uri": "https://localhost:8080/"
        },
        "id": "YyaluDoTHaEI",
        "outputId": "da5ccc6a-c5ea-49f4-d504-7df176e1b040"
      },
      "execution_count": 55,
      "outputs": [
        {
          "output_type": "stream",
          "name": "stdout",
          "text": [
            "[7.23, 1.48, 8.01, 8.89, 5.03, 7.91, 7.09, 5.17, 4.37, 4.46] [1.6, 5.37, 9.07, 6.6, 4.65, 3.34, 7.69, 4.0, 3.46, 6.15]\n"
          ]
        }
      ]
    },
    {
      "cell_type": "markdown",
      "source": [
        "## Bubleバブルソート\n",
        "バブルソートはネストされたループで実行され、各要素について隣接要素と比較し、必要に応じて交換します。\n",
        "\n",
        "外側のループ: 𝑛 回実行されます。\n",
        "内側のループ: 各ステップで 𝑛−1回実行されます。  \n",
        "したがって、バブルソート全体の時間計算量は $𝑂(𝑛^2)$です。"
      ],
      "metadata": {
        "id": "AHF_e7oeJtcc"
      }
    },
    {
      "cell_type": "code",
      "source": [
        "def sort_by_values1(values,weights):\n",
        "    for _ in range(len(weights)):\n",
        "        for i in range(len(weights)-1):\n",
        "            if values[i]<values[i+1]:\n",
        "                values[i],values[i+1] = values[i+1],values[i]\n",
        "                weights[i],weights[i+1] = weights[i+1],weights[i]\n",
        "    return values, weights"
      ],
      "metadata": {
        "id": "S-n-WNlQFyBl"
      },
      "execution_count": 56,
      "outputs": []
    },
    {
      "cell_type": "markdown",
      "source": [
        "## Timsort アルゴリズム  \n",
        "あるいは、Pythonの組み込みのソート機能を使って同じ結果を得ることもできます：  \n",
        "`combined.sort(key=lambda x: x[0] / x[1], reverse=True) `では、価値と重量の比率で降順にソートしています。  \n",
        "このソート操作は Python の Timsort アルゴリズムを使用し、時間計算量は$𝑂(𝑛log⁡𝑛)$です。\n",
        "Timsort の時間計算量は、分割統治法を基にしているためです。具体的には、以下の手順で動作します。\n",
        "\n",
        "- 分割: 配列を小さな部分配列に分割します。\n",
        "- ソート: 小さな部分配列をソートします。\n",
        "- マージ: ソートされた部分配列をマージして、最終的なソートされた配列を作成します。\n",
        "この分割とマージのプロセスは、各ステップでデータを半分に分割し、ログスケールで進行します。また、各マージステップで $𝑂(𝑛)$ の作業が必要となります。したがって、全体の時間計算量は $𝑂(𝑛log𝑛)$となります。"
      ],
      "metadata": {
        "id": "uiAaXM95RVpf"
      }
    },
    {
      "cell_type": "code",
      "source": [
        "def sort_by_values2(values,weights):\n",
        "    combined = list(zip(values,weights))\n",
        "    combined.sort(key=lambda x:x[0],reverse=True)\n",
        "    values,weights = zip(*combined)\n",
        "    return values,weights"
      ],
      "metadata": {
        "id": "-JvYKuvhRY1K"
      },
      "execution_count": 57,
      "outputs": []
    },
    {
      "cell_type": "code",
      "source": [
        "combined = list(zip(values,weights))\n",
        "combined"
      ],
      "metadata": {
        "colab": {
          "base_uri": "https://localhost:8080/"
        },
        "id": "6dW2tjiBSdfJ",
        "outputId": "c2855c19-2b67-48e8-abdf-8c232bde0bd7"
      },
      "execution_count": 58,
      "outputs": [
        {
          "output_type": "execute_result",
          "data": {
            "text/plain": [
              "[(1.6, 7.23),\n",
              " (5.37, 1.48),\n",
              " (9.07, 8.01),\n",
              " (6.6, 8.89),\n",
              " (4.65, 5.03),\n",
              " (3.34, 7.91),\n",
              " (7.69, 7.09),\n",
              " (4.0, 5.17),\n",
              " (3.46, 4.37),\n",
              " (6.15, 4.46)]"
            ]
          },
          "metadata": {},
          "execution_count": 58
        }
      ]
    },
    {
      "cell_type": "code",
      "source": [
        "combined.sort(key=lambda x:x[0],reverse=True)\n",
        "combined"
      ],
      "metadata": {
        "colab": {
          "base_uri": "https://localhost:8080/"
        },
        "id": "-Dfe0FiVSlDe",
        "outputId": "611697e5-89b8-4b43-d958-10bb821653dc"
      },
      "execution_count": 59,
      "outputs": [
        {
          "output_type": "execute_result",
          "data": {
            "text/plain": [
              "[(9.07, 8.01),\n",
              " (7.69, 7.09),\n",
              " (6.6, 8.89),\n",
              " (6.15, 4.46),\n",
              " (5.37, 1.48),\n",
              " (4.65, 5.03),\n",
              " (4.0, 5.17),\n",
              " (3.46, 4.37),\n",
              " (3.34, 7.91),\n",
              " (1.6, 7.23)]"
            ]
          },
          "metadata": {},
          "execution_count": 59
        }
      ]
    },
    {
      "cell_type": "code",
      "source": [
        "values, weights = zip(*combined)\n",
        "print(values,weights)"
      ],
      "metadata": {
        "colab": {
          "base_uri": "https://localhost:8080/"
        },
        "id": "OTRUoNxtSysE",
        "outputId": "daf6ab8b-b505-4a77-ec54-84275327ca33"
      },
      "execution_count": 60,
      "outputs": [
        {
          "output_type": "stream",
          "name": "stdout",
          "text": [
            "(9.07, 7.69, 6.6, 6.15, 5.37, 4.65, 4.0, 3.46, 3.34, 1.6) (8.01, 7.09, 8.89, 4.46, 1.48, 5.03, 5.17, 4.37, 7.91, 7.23)\n"
          ]
        }
      ]
    },
    {
      "cell_type": "markdown",
      "source": [
        "## Greedy algorithm\n",
        "貪欲アルゴリズムは、解を一個一個構築し、各ステップで、最も有益な部分を選択します。  \n",
        "napsack 関数のループ部分:\n",
        "`for i in range(len(weights)):`で、ソートされたアイテムを順に見てナップサックに詰める処理を行っています。  \n",
        "このループは最大で$ 𝑛$ 回実行されます。ループ部分: $𝑂(𝑛)$\n",
        "各ループ内の処理（アイテムの追加）は定数時間$𝑂(1)$で実行されます。"
      ],
      "metadata": {
        "id": "vQNqy9p3QzbM"
      }
    },
    {
      "cell_type": "code",
      "source": [
        "def napsack1(weights,values,W):\n",
        "    napsack_dict={}\n",
        "    values,weights = sort_by_values1(values,weights)\n",
        "    value_sum = 0\n",
        "    weight_sum = W\n",
        "    while weight_sum>0:\n",
        "        for i in range(len(weights)):\n",
        "            if weight_sum - weights[i] <= 0:\n",
        "                value_sum += values[i]*weight_sum\n",
        "                napsack_dict[values[i]] = weight_sum\n",
        "                weight_sum = 0\n",
        "                break\n",
        "            else:\n",
        "                weight_sum -= weights[i]\n",
        "                value_sum += values[i]*weights[i]\n",
        "                if values[i] in napsack_dict:\n",
        "                    napsack_dict[values[i]] += weights[i]\n",
        "                else:\n",
        "                    napsack_dict[values[i]] = weights[i]\n",
        "\n",
        "    return value_sum,napsack_dict"
      ],
      "metadata": {
        "id": "2HKKOawxGOlD"
      },
      "execution_count": 61,
      "outputs": []
    },
    {
      "cell_type": "code",
      "source": [
        "def napsack2(weights,values,W):\n",
        "    napsack_dict={}\n",
        "    values,weights = sort_by_values2(values,weights)\n",
        "    value_sum = 0\n",
        "    weight_sum = W\n",
        "    while weight_sum>0:\n",
        "        for i in range(len(weights)):\n",
        "            if weight_sum - weights[i] <= 0:\n",
        "                value_sum += values[i]*weight_sum\n",
        "                napsack_dict[values[i]] = weight_sum\n",
        "                weight_sum = 0\n",
        "                break\n",
        "            else:\n",
        "                weight_sum -= weights[i]\n",
        "                value_sum += values[i]*weights[i]\n",
        "                if values[i] in napsack_dict:\n",
        "                    napsack_dict[values[i]] += weights[i]\n",
        "                else:\n",
        "                    napsack_dict[values[i]] = weights[i]\n",
        "\n",
        "    return value_sum,napsack_dict"
      ],
      "metadata": {
        "id": "4x_4a757Vlac"
      },
      "execution_count": 62,
      "outputs": []
    },
    {
      "cell_type": "code",
      "source": [
        "%%time\n",
        "napsack1(weights,values,20)"
      ],
      "metadata": {
        "colab": {
          "base_uri": "https://localhost:8080/"
        },
        "id": "RSEiAyiaJZl_",
        "outputId": "375bd44d-249e-4677-e65e-e0c5ee679e36"
      },
      "execution_count": 63,
      "outputs": [
        {
          "output_type": "stream",
          "name": "stdout",
          "text": [
            "CPU times: user 35 µs, sys: 0 ns, total: 35 µs\n",
            "Wall time: 39.1 µs\n"
          ]
        },
        {
          "output_type": "execute_result",
          "data": {
            "text/plain": [
              "(159.5128, {9.07: 8.01, 7.69: 7.09, 6.6: 4.9})"
            ]
          },
          "metadata": {},
          "execution_count": 63
        }
      ]
    },
    {
      "cell_type": "code",
      "source": [
        "%%time\n",
        "napsack2(weights,values,20)"
      ],
      "metadata": {
        "colab": {
          "base_uri": "https://localhost:8080/"
        },
        "id": "zYy9h4eSNS2A",
        "outputId": "33a7fb0b-41c6-4b8e-850c-f031d7f74f19"
      },
      "execution_count": 64,
      "outputs": [
        {
          "output_type": "stream",
          "name": "stdout",
          "text": [
            "CPU times: user 27 µs, sys: 3 µs, total: 30 µs\n",
            "Wall time: 32.7 µs\n"
          ]
        },
        {
          "output_type": "execute_result",
          "data": {
            "text/plain": [
              "(159.5128, {9.07: 8.01, 7.69: 7.09, 6.6: 4.9})"
            ]
          },
          "metadata": {},
          "execution_count": 64
        }
      ]
    },
    {
      "cell_type": "markdown",
      "source": [
        "## Money Change\n"
      ],
      "metadata": {
        "id": "-uRYa1Fzgliw"
      }
    },
    {
      "cell_type": "code",
      "source": [
        "def money_change1(change):\n",
        "    coins = [500,100,50,10,5,1]\n",
        "    change_dict={}\n",
        "    while change>0:\n",
        "        for coin in coins:\n",
        "            if change-coin>=0:\n",
        "                change = change-coin\n",
        "                if coin in change_dict:\n",
        "                    change_dict[coin]+=1\n",
        "                    break\n",
        "                else:\n",
        "                    change_dict[coin]=1\n",
        "                    break\n",
        "    return change_dict"
      ],
      "metadata": {
        "id": "Vo-FqadTgiXI"
      },
      "execution_count": 73,
      "outputs": []
    },
    {
      "cell_type": "code",
      "source": [
        "%%time\n",
        "money_change1(999)"
      ],
      "metadata": {
        "colab": {
          "base_uri": "https://localhost:8080/"
        },
        "id": "_kOsWBRYh5_X",
        "outputId": "19d2e7cf-8504-4281-ac8f-4e3678b27193"
      },
      "execution_count": 76,
      "outputs": [
        {
          "output_type": "stream",
          "name": "stdout",
          "text": [
            "CPU times: user 42 µs, sys: 0 ns, total: 42 µs\n",
            "Wall time: 62 µs\n"
          ]
        },
        {
          "output_type": "execute_result",
          "data": {
            "text/plain": [
              "{500: 1, 100: 4, 50: 1, 10: 4, 5: 1, 1: 4}"
            ]
          },
          "metadata": {},
          "execution_count": 76
        }
      ]
    },
    {
      "cell_type": "code",
      "source": [
        "def money_change2(change,coins):\n",
        "    coins.sort(reverse=True)\n",
        "    change_dict={}\n",
        "    for coin in coins:\n",
        "        change_dict[coin] = change//coin\n",
        "        change = change%coin\n",
        "    return change_dict"
      ],
      "metadata": {
        "id": "vZet-fJkh9OF"
      },
      "execution_count": 81,
      "outputs": []
    },
    {
      "cell_type": "code",
      "source": [
        "%%time\n",
        "money_change2(999)"
      ],
      "metadata": {
        "colab": {
          "base_uri": "https://localhost:8080/"
        },
        "id": "jtCK8qcgk5o5",
        "outputId": "b568ed8c-8e6c-433e-91f2-fbfb525ef9bf"
      },
      "execution_count": 78,
      "outputs": [
        {
          "output_type": "stream",
          "name": "stdout",
          "text": [
            "CPU times: user 9 µs, sys: 1 µs, total: 10 µs\n",
            "Wall time: 16 µs\n"
          ]
        },
        {
          "output_type": "execute_result",
          "data": {
            "text/plain": [
              "{500: 1, 100: 4, 50: 1, 10: 4, 5: 1, 1: 4}"
            ]
          },
          "metadata": {},
          "execution_count": 78
        }
      ]
    },
    {
      "cell_type": "markdown",
      "source": [
        "### 結論\n",
        "money_change1 の時間計算量は $O(change)$ です。\n",
        "money_change2 の時間計算量は $O(n)$ です。\n",
        "money_change2 の方が効率的です。money_change1 は change の大きさに依存しているため、非常に大きな change の値の場合に効率が悪くなります。一方、money_change2 は硬貨の種類の数に依存しており、通常この数は固定されているため、非常に効率的です。"
      ],
      "metadata": {
        "id": "WennXhY5ms9J"
      }
    },
    {
      "cell_type": "code",
      "source": [
        "money_change2(8,[1,4,6])"
      ],
      "metadata": {
        "colab": {
          "base_uri": "https://localhost:8080/"
        },
        "id": "hE6ZEm96k8ri",
        "outputId": "9761a184-cd5d-43f2-eaaf-e03b99a5ab49"
      },
      "execution_count": 83,
      "outputs": [
        {
          "output_type": "execute_result",
          "data": {
            "text/plain": [
              "{6: 1, 4: 0, 1: 2}"
            ]
          },
          "metadata": {},
          "execution_count": 83
        }
      ]
    },
    {
      "cell_type": "code",
      "source": [
        "u1=3\n",
        "u2=4/3\n",
        "u3=6-4/3"
      ],
      "metadata": {
        "id": "oqYB7m2Eo0yE"
      },
      "execution_count": 84,
      "outputs": []
    },
    {
      "cell_type": "code",
      "source": [
        "5000*u1/4+200*u2/3+10*u3/5"
      ],
      "metadata": {
        "colab": {
          "base_uri": "https://localhost:8080/"
        },
        "id": "HcOnnxC9qmaf",
        "outputId": "91f21c81-c90d-47c6-ed31-e3ebb0c9392f"
      },
      "execution_count": 85,
      "outputs": [
        {
          "output_type": "execute_result",
          "data": {
            "text/plain": [
              "3848.222222222222"
            ]
          },
          "metadata": {},
          "execution_count": 85
        }
      ]
    },
    {
      "cell_type": "code",
      "source": [],
      "metadata": {
        "id": "41o5NltDq7Xn"
      },
      "execution_count": null,
      "outputs": []
    }
  ]
}