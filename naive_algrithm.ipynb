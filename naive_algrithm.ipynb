{
  "nbformat": 4,
  "nbformat_minor": 0,
  "metadata": {
    "colab": {
      "provenance": [],
      "authorship_tag": "ABX9TyMcZ5r9niQfNeP2V+/DQKt9",
      "include_colab_link": true
    },
    "kernelspec": {
      "name": "python3",
      "display_name": "Python 3"
    },
    "language_info": {
      "name": "python"
    }
  },
  "cells": [
    {
      "cell_type": "markdown",
      "metadata": {
        "id": "view-in-github",
        "colab_type": "text"
      },
      "source": [
        "<a href=\"https://colab.research.google.com/github/niikun/Data-Structure-and-Algorithm/blob/main/naive_algrithm.ipynb\" target=\"_parent\"><img src=\"https://colab.research.google.com/assets/colab-badge.svg\" alt=\"Open In Colab\"/></a>"
      ]
    },
    {
      "cell_type": "markdown",
      "source": [
        "## Computing Fibonacci number\n",
        "Input: An integer $n\\geq 0$  \n",
        "Outout: Fn"
      ],
      "metadata": {
        "id": "thRnsZ0o1ZBA"
      }
    },
    {
      "cell_type": "code",
      "execution_count": 4,
      "metadata": {
        "colab": {
          "base_uri": "https://localhost:8080/"
        },
        "id": "QLtds6Ag1SCf",
        "outputId": "2d00444f-7430-4fde-8ad3-56f04ccfdec5"
      },
      "outputs": [
        {
          "output_type": "stream",
          "name": "stdout",
          "text": [
            "[0, 1, 1, 2, 3, 5, 8, 13, 21, 34, 55, 89, 144, 233, 377, 610, 987, 1597, 2584, 4181, 6765, 10946, 17711, 28657, 46368, 75025, 121393, 196418, 317811, 514229, 832040, 1346269, 2178309, 3524578, 5702887, 9227465, 14930352, 24157817, 39088169, 63245986, 102334155, 165580141, 267914296, 433494437, 701408733, 1134903170, 1836311903, 2971215073, 4807526976, 7778742049, 12586269025, 20365011074, 32951280099, 53316291173, 86267571272, 139583862445, 225851433717, 365435296162, 591286729879, 956722026041, 1548008755920, 2504730781961, 4052739537881, 6557470319842, 10610209857723, 17167680177565, 27777890035288, 44945570212853, 72723460248141, 117669030460994, 190392490709135, 308061521170129, 498454011879264, 806515533049393, 1304969544928657, 2111485077978050, 3416454622906707, 5527939700884757, 8944394323791464, 14472334024676221, 23416728348467685, 37889062373143906, 61305790721611591, 99194853094755497, 160500643816367088, 259695496911122585, 420196140727489673, 679891637638612258, 1100087778366101931, 1779979416004714189, 2880067194370816120, 4660046610375530309, 7540113804746346429, 12200160415121876738, 19740274219868223167, 31940434634990099905, 51680708854858323072, 83621143489848422977, 135301852344706746049, 218922995834555169026]\n",
            "CPU times: user 551 µs, sys: 0 ns, total: 551 µs\n",
            "Wall time: 512 µs\n"
          ]
        }
      ],
      "source": [
        "%%time\n",
        "fib = []\n",
        "for n in range(100):\n",
        "\n",
        "    if n <=1:\n",
        "        fib.append(n)\n",
        "    else:\n",
        "        fib.append(fib[n-1] + fib[n-2])\n",
        "\n",
        "print(fib)"
      ]
    },
    {
      "cell_type": "code",
      "source": [
        "print(fib[-1])\n",
        "print(f\"{len(str(fib[-1]))}桁\")"
      ],
      "metadata": {
        "colab": {
          "base_uri": "https://localhost:8080/"
        },
        "id": "Ljn6rHjm3bC7",
        "outputId": "26aae0ad-1067-45ff-fffd-adc3a792b3e1"
      },
      "execution_count": 10,
      "outputs": [
        {
          "output_type": "stream",
          "name": "stdout",
          "text": [
            "218922995834555169026\n",
            "21桁\n"
          ]
        }
      ]
    },
    {
      "cell_type": "markdown",
      "source": [
        "## Greatest Common Divisor  \n",
        "Input: Integers $a,b \\geq 0$  \n",
        "Output: $gcd(a,b)$"
      ],
      "metadata": {
        "id": "6wEg5kNR7O9A"
      }
    },
    {
      "cell_type": "code",
      "source": [
        "m=248\n",
        "n=156\n",
        "\n",
        "def _gcd(m,n):\n",
        "    \"\"\"\n",
        "    Greatest Common Divisor\n",
        "    m>n\n",
        "    \"\"\"\n",
        "    divisor = 1\n",
        "    for i in range(2,n+1):\n",
        "        if n%i==0:\n",
        "            if m%i==0:\n",
        "                if divisor<i:\n",
        "                    divisor = i\n",
        "    return divisor\n",
        "\n",
        "def gcd(m,n):\n",
        "    \"\"\"\n",
        "    Greatest Common Divisor\n",
        "    m>n , m<n and m=n\n",
        "    \"\"\"\n",
        "    if m>n:\n",
        "        return _gcd(m,n)\n",
        "    elif m==n:\n",
        "        return m\n",
        "    else:\n",
        "        return _gcd(n,m)"
      ],
      "metadata": {
        "id": "mzEBhnPb4Z24"
      },
      "execution_count": 35,
      "outputs": []
    },
    {
      "cell_type": "code",
      "source": [
        "%%time\n",
        "gcd(248,156)"
      ],
      "metadata": {
        "colab": {
          "base_uri": "https://localhost:8080/"
        },
        "id": "Z808FOBA8CW1",
        "outputId": "a54c1e6c-f6fa-4a80-b9be-caf980ea9c52"
      },
      "execution_count": 38,
      "outputs": [
        {
          "output_type": "stream",
          "name": "stdout",
          "text": [
            "CPU times: user 16 µs, sys: 0 ns, total: 16 µs\n",
            "Wall time: 20.3 µs\n"
          ]
        },
        {
          "output_type": "execute_result",
          "data": {
            "text/plain": [
              "4"
            ]
          },
          "metadata": {},
          "execution_count": 38
        }
      ]
    },
    {
      "cell_type": "code",
      "source": [
        "def gcd2(m, n):\n",
        "    \"\"\"\n",
        "    Greatest Common Divisor\n",
        "    Handles cases where m > n, m < n, and m == n\n",
        "    \"\"\"\n",
        "    while n:\n",
        "        m, n = n, m % n\n",
        "    return m\n",
        "\n",
        "# テスト例\n",
        "print(gcd(48, 18))  # 出力: 6\n"
      ],
      "metadata": {
        "colab": {
          "base_uri": "https://localhost:8080/"
        },
        "id": "YybfEHx0DL0Q",
        "outputId": "12c3ef68-162a-4af9-ae94-192d12773be5"
      },
      "execution_count": 40,
      "outputs": [
        {
          "output_type": "stream",
          "name": "stdout",
          "text": [
            "6\n"
          ]
        }
      ]
    },
    {
      "cell_type": "code",
      "source": [
        "%%time\n",
        "gcd2(248,156)"
      ],
      "metadata": {
        "colab": {
          "base_uri": "https://localhost:8080/"
        },
        "id": "HD_ELWhgB-XV",
        "outputId": "c91c669a-0aca-4ec8-b472-38b00dc4cc12"
      },
      "execution_count": 41,
      "outputs": [
        {
          "output_type": "stream",
          "name": "stdout",
          "text": [
            "CPU times: user 7 µs, sys: 0 ns, total: 7 µs\n",
            "Wall time: 11.9 µs\n"
          ]
        },
        {
          "output_type": "execute_result",
          "data": {
            "text/plain": [
              "4"
            ]
          },
          "metadata": {},
          "execution_count": 41
        }
      ]
    },
    {
      "cell_type": "markdown",
      "source": [
        "ユークリッドの互除法の原理\n",
        "ユークリッドの互除法は次の定理に基づいています：\n",
        "\n",
        "「2つの整数\n",
        "𝑎と𝑏 の最大公約数は、\n",
        "𝑎を𝑏で割った余り\n",
        "𝑟と𝑏の最大公約数に等しい」\n",
        "\n",
        "これを数式で表すと、\n",
        "GCD(𝑎,𝑏)=GCD(𝑏,𝑎%𝑏)\n",
        "\n",
        "となります。\n",
        "\n",
        "- 計算の手順\n",
        "    - 初期状態：\n",
        "2つの整数 𝑎と𝑏が与えられるとします（ここでは 𝑎>𝑏とします）。\n",
        "\n",
        "    - 余りの計算：𝑎を𝑏で割った余り 𝑟を計算します。すなわち、𝑟=𝑎%𝑏。\n",
        "    - 繰り返し：𝑎を𝑏、𝑏を𝑟 に置き換え、再度余りを計算します。この操作を余りがゼロになるまで繰り返します。\n",
        "\n",
        "    - 終了条件：余りがゼロになった時点での 𝑏 の値が、元の 𝑎と 𝑏の最大公約数です。\n",
        "\n",
        "なぜこの方法が正しいのか？\n",
        "次のような理由から、この方法が正しいことが証明されます：\n",
        "\n",
        "- 互除法の基本定理：\n",
        "上記のように、最大公約数の定義により、GCD(𝑎,𝑏)=GCD(𝑏,𝑎%𝑏)であることが証明できます。これを繰り返すと、各ステップで問題が小さくなり、最終的に解が得られます。\n",
        "\n",
        "- 終了することの保証：\n",
        "各ステップで余り 𝑟は前の余りよりも小さくなります。余りは非負整数なので、有限回のステップで必ずゼロになります。\n",
        "\n",
        "実例：\n",
        "具体的な数字を使って説明すると、次のようになります。\n",
        "\n",
        "例：\n",
        "𝑎=48、𝑏=18\n",
        "48%18=12なので、次のステップでは\n",
        "𝑎=18、𝑏=12となります。  \n",
        "18%12=6なので、次のステップでは\n",
        "𝑎=12、𝑏=6となります。  \n",
        "\n",
        "12%6=0なので、終了条件に達し、GCDは6です。  \n",
        "このように、ユークリッドの互除法を用いることで、効率的に最大公約数を求めることができます。"
      ],
      "metadata": {
        "id": "yYSVYBeDGTKS"
      }
    },
    {
      "cell_type": "code",
      "source": [
        "gcd2(357,234)"
      ],
      "metadata": {
        "colab": {
          "base_uri": "https://localhost:8080/"
        },
        "id": "5cHUFSr1DTjV",
        "outputId": "08a5bd6a-9870-4240-b311-cbef68d5692d"
      },
      "execution_count": 42,
      "outputs": [
        {
          "output_type": "execute_result",
          "data": {
            "text/plain": [
              "3"
            ]
          },
          "metadata": {},
          "execution_count": 42
        }
      ]
    },
    {
      "cell_type": "code",
      "source": [],
      "metadata": {
        "id": "VLG9s7WWI98b"
      },
      "execution_count": null,
      "outputs": []
    }
  ]
}