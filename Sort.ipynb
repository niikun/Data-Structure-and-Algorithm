{
  "nbformat": 4,
  "nbformat_minor": 0,
  "metadata": {
    "colab": {
      "provenance": [],
      "authorship_tag": "ABX9TyOwS2SeyBWFGpVYKpYTm0fO",
      "include_colab_link": true
    },
    "kernelspec": {
      "name": "python3",
      "display_name": "Python 3"
    },
    "language_info": {
      "name": "python"
    }
  },
  "cells": [
    {
      "cell_type": "markdown",
      "metadata": {
        "id": "view-in-github",
        "colab_type": "text"
      },
      "source": [
        "<a href=\"https://colab.research.google.com/github/niikun/Data-Structure-and-Algorithm/blob/main/Sort.ipynb\" target=\"_parent\"><img src=\"https://colab.research.google.com/assets/colab-badge.svg\" alt=\"Open In Colab\"/></a>"
      ]
    },
    {
      "cell_type": "markdown",
      "source": [
        "# Sort Argorithm"
      ],
      "metadata": {
        "id": "T6rQ0UF5l2tt"
      }
    },
    {
      "cell_type": "code",
      "execution_count": 1,
      "metadata": {
        "id": "EfJ7bF-tH2bY"
      },
      "outputs": [],
      "source": [
        "import numpy as np\n",
        "import pandas as pd\n",
        "import random"
      ]
    },
    {
      "cell_type": "code",
      "source": [
        "list_a = np.arange(0,20)\n",
        "list_a = list(list_a)  # NumPy配列をリストに変換\n",
        "random.shuffle(list_a)  # list_aをインプレースでシャッフル\n",
        "print(list_a)\n",
        "print(len(list_a))"
      ],
      "metadata": {
        "colab": {
          "base_uri": "https://localhost:8080/"
        },
        "id": "YzVThtvPIHpx",
        "outputId": "9d795629-2488-428f-9e2a-7467d719fab3"
      },
      "execution_count": 43,
      "outputs": [
        {
          "output_type": "stream",
          "name": "stdout",
          "text": [
            "[11, 14, 16, 3, 7, 0, 9, 4, 6, 15, 13, 2, 8, 17, 10, 18, 5, 1, 19, 12]\n",
            "20\n"
          ]
        }
      ]
    },
    {
      "cell_type": "code",
      "source": [
        "%time\n",
        "sorted_list_a = []\n",
        "for i in list_a:\n",
        "    if sorted_list_a == []:\n",
        "        sorted_list_a.append(i)\n",
        "    else:\n",
        "        inserted = False\n",
        "        for j in range(len(sorted_list_a)):\n",
        "            if sorted_list_a[j] > i:\n",
        "                sorted_list_a.insert(j, i)\n",
        "                inserted = True\n",
        "                break\n",
        "        if not inserted:\n",
        "            sorted_list_a.append(i)\n",
        "\n",
        "print(sorted_list_a)"
      ],
      "metadata": {
        "colab": {
          "base_uri": "https://localhost:8080/"
        },
        "id": "TpxsGxeVIZ5q",
        "outputId": "26350b4f-42fc-431b-e1c7-ede4ad3b8817"
      },
      "execution_count": 3,
      "outputs": [
        {
          "output_type": "stream",
          "name": "stdout",
          "text": [
            "CPU times: user 2 µs, sys: 1e+03 ns, total: 3 µs\n",
            "Wall time: 15.5 µs\n",
            "[0, 1, 2, 3, 4, 5, 6, 7, 8, 9, 10, 11, 12, 13, 14, 15, 16, 17, 18, 19]\n"
          ]
        }
      ]
    },
    {
      "cell_type": "code",
      "source": [],
      "metadata": {
        "id": "cP6zwLLYMLQp"
      },
      "execution_count": 3,
      "outputs": []
    },
    {
      "cell_type": "markdown",
      "source": [
        "# Insertion Sort"
      ],
      "metadata": {
        "id": "FJ1JACZ4M-mU"
      }
    },
    {
      "cell_type": "code",
      "source": [
        "%time\n",
        "list_a_sorted=[]\n",
        "for num in range(len(list_a)):\n",
        "    if num == 0:\n",
        "        list_a_sorted.append(list_a[num])\n",
        "    else:\n",
        "        inserted = False\n",
        "        for i in range(len(list_a_sorted)):\n",
        "        # print(list_a[num-1])\n",
        "        # print(num)\n",
        "            if list_a[num]<list_a_sorted[i]:\n",
        "                list_a_sorted.insert(i,list_a[num])\n",
        "                inserted=True\n",
        "                break\n",
        "        if not inserted:\n",
        "            list_a_sorted.append(list_a[num])\n",
        "print(list_a_sorted)\n"
      ],
      "metadata": {
        "colab": {
          "base_uri": "https://localhost:8080/"
        },
        "id": "F3ihbSSHNEqn",
        "outputId": "e67b7d9d-a577-4e81-db1d-dadc0d0eb319"
      },
      "execution_count": 4,
      "outputs": [
        {
          "output_type": "stream",
          "name": "stdout",
          "text": [
            "CPU times: user 3 µs, sys: 0 ns, total: 3 µs\n",
            "Wall time: 6.68 µs\n",
            "[0, 1, 2, 3, 4, 5, 6, 7, 8, 9, 10, 11, 12, 13, 14, 15, 16, 17, 18, 19]\n"
          ]
        }
      ]
    },
    {
      "cell_type": "code",
      "source": [
        "%time\n",
        "\n",
        "# A[i]>A[i+1]より大きかったら、A[i]とA[i+1]入れ替える。\n",
        "# それ以外は抜ける。\n",
        "def insertion_sort(lists,j):\n",
        "    for i in range(j-1, -1, -1):\n",
        "            if lists[i] > lists[i+1]:\n",
        "                lists[i], lists[i+1] = lists[i+1], lists[i]  # 要素を入れ替える\n",
        "            else:\n",
        "                break\n",
        "\n",
        "for i in range(1,len(list_a)):\n",
        "    insertion_sort(list_a,i)\n",
        "\n",
        "\n",
        "print(list_a)\n",
        "\n",
        "\n"
      ],
      "metadata": {
        "colab": {
          "base_uri": "https://localhost:8080/"
        },
        "id": "KiCY94MfNn6M",
        "outputId": "bca4beca-0806-46a9-de43-a1fb20505cfb"
      },
      "execution_count": 5,
      "outputs": [
        {
          "output_type": "stream",
          "name": "stdout",
          "text": [
            "CPU times: user 3 µs, sys: 0 ns, total: 3 µs\n",
            "Wall time: 6.91 µs\n",
            "[0, 1, 2, 3, 4, 5, 6, 7, 8, 9, 10, 11, 12, 13, 14, 15, 16, 17, 18, 19]\n"
          ]
        }
      ]
    },
    {
      "cell_type": "code",
      "source": [
        "box=[]\n",
        "for i in range(10):\n",
        "\n",
        "    if i == 9:\n",
        "        last = 60-sum(box)\n",
        "        box.append(last)\n",
        "    else:\n",
        "        box.append(i+1)\n",
        "\n",
        "print(box)"
      ],
      "metadata": {
        "id": "bFVrrO_yCPZb",
        "colab": {
          "base_uri": "https://localhost:8080/"
        },
        "outputId": "83569bf8-cf9e-4fdd-ef36-b07d391bfb25"
      },
      "execution_count": 6,
      "outputs": [
        {
          "output_type": "stream",
          "name": "stdout",
          "text": [
            "[1, 2, 3, 4, 5, 6, 7, 8, 9, 15]\n"
          ]
        }
      ]
    },
    {
      "cell_type": "code",
      "source": [
        "box=[]\n",
        "for i in range(10):\n",
        "\n",
        "    if i == 9:\n",
        "        last = 45-sum(box)\n",
        "        box.append(last)\n",
        "    else:\n",
        "        box.append(i+1)\n",
        "\n",
        "print(box)"
      ],
      "metadata": {
        "colab": {
          "base_uri": "https://localhost:8080/"
        },
        "id": "Bzh9yTxZBKX0",
        "outputId": "5dc99fe4-1106-4e33-e949-e8b108b8f58a"
      },
      "execution_count": 7,
      "outputs": [
        {
          "output_type": "stream",
          "name": "stdout",
          "text": [
            "[1, 2, 3, 4, 5, 6, 7, 8, 9, 0]\n"
          ]
        }
      ]
    },
    {
      "cell_type": "markdown",
      "source": [
        "#Sorting\n",
        "Input:A[1,....,n]\n",
        "Output:Permutation A'[1,....,n]in non-decreasing order"
      ],
      "metadata": {
        "id": "dMIOvaAoKQEX"
      }
    },
    {
      "cell_type": "code",
      "source": [
        "A =[8,4,2,5,2]"
      ],
      "metadata": {
        "id": "L3JFcfb5CWCs"
      },
      "execution_count": 8,
      "outputs": []
    },
    {
      "cell_type": "code",
      "source": [
        "def sort_Linear(A):\n",
        "    for j in range(len(A)-1):\n",
        "        for i in range(len(A)-1):\n",
        "            if A[i]>=A[i+1]:\n",
        "                A[i],A[i+1]=A[i+1],A[i]\n",
        "    return A"
      ],
      "metadata": {
        "id": "fZq_Ph_PK0Z_"
      },
      "execution_count": 9,
      "outputs": []
    },
    {
      "cell_type": "code",
      "source": [
        "%%time\n",
        "sort_Linear(list_a)"
      ],
      "metadata": {
        "colab": {
          "base_uri": "https://localhost:8080/"
        },
        "id": "2XJy3WjpLnR7",
        "outputId": "7826acd1-9d4e-4c27-a9d2-22e12aae1722"
      },
      "execution_count": 10,
      "outputs": [
        {
          "output_type": "stream",
          "name": "stdout",
          "text": [
            "CPU times: user 83 µs, sys: 0 ns, total: 83 µs\n",
            "Wall time: 86.8 µs\n"
          ]
        },
        {
          "output_type": "execute_result",
          "data": {
            "text/plain": [
              "[0, 1, 2, 3, 4, 5, 6, 7, 8, 9, 10, 11, 12, 13, 14, 15, 16, 17, 18, 19]"
            ]
          },
          "metadata": {},
          "execution_count": 10
        }
      ]
    },
    {
      "cell_type": "markdown",
      "source": [
        "## 選択ソートの時間計算量\n",
        "選択ソートは、次のような手順で動作します：\n",
        "\n",
        "- 未ソート部分の最小値を見つける。\n",
        "- その最小値を新しいソート済みリストに追加する。\n",
        "- 元のリストからその最小値を削除する。\n",
        "- この処理を配列の全ての要素に対して行う必要があります。\n",
        "\n",
        "具体的な時間計算量の分析は次の通りです：\n",
        "\n",
        "- min(A) の計算：配列のすべての要素を調べるため O(n)。\n",
        "- A.remove(min_num) の計算：最小値の位置を探して削除するため O(n)（最悪の場合）。  \n",
        "これらの操作を n 回繰り返すため、合計で O(n) * O(n) = O(n^2) となります。"
      ],
      "metadata": {
        "id": "0qy27UNCZOL0"
      }
    },
    {
      "cell_type": "code",
      "source": [
        "def sort_selection(A):\n",
        "    A_sorted=[]\n",
        "    for i in range(len(A)):\n",
        "        min_num = min(A)\n",
        "        A_sorted.append(min_num)\n",
        "        A.remove(min_num)\n",
        "\n",
        "    return A_sorted\n"
      ],
      "metadata": {
        "id": "3BI1itDQVQXo"
      },
      "execution_count": 11,
      "outputs": []
    },
    {
      "cell_type": "code",
      "source": [
        "%%time\n",
        "sort_selection(list_a)"
      ],
      "metadata": {
        "colab": {
          "base_uri": "https://localhost:8080/"
        },
        "id": "AnP55E6OYTLR",
        "outputId": "6e91f2d3-937f-4e3c-c09f-be1b0803157a"
      },
      "execution_count": 12,
      "outputs": [
        {
          "output_type": "stream",
          "name": "stdout",
          "text": [
            "CPU times: user 27 µs, sys: 5 µs, total: 32 µs\n",
            "Wall time: 34.6 µs\n"
          ]
        },
        {
          "output_type": "execute_result",
          "data": {
            "text/plain": [
              "[0, 1, 2, 3, 4, 5, 6, 7, 8, 9, 10, 11, 12, 13, 14, 15, 16, 17, 18, 19]"
            ]
          },
          "metadata": {},
          "execution_count": 12
        }
      ]
    },
    {
      "cell_type": "code",
      "source": [
        "import numpy as np\n",
        "import random\n",
        "list_a = np.arange(0,20)\n",
        "list_a = list(list_a)  # NumPy配列をリストに変換\n",
        "random.shuffle(list_a)  # list_aをインプレースでシャッフル\n",
        "print(list_a)"
      ],
      "metadata": {
        "id": "iXYL_P7kYXlA",
        "colab": {
          "base_uri": "https://localhost:8080/"
        },
        "outputId": "40eaa77e-2aeb-43b8-b95f-9e49a86cf549"
      },
      "execution_count": 13,
      "outputs": [
        {
          "output_type": "stream",
          "name": "stdout",
          "text": [
            "[8, 17, 14, 12, 5, 16, 7, 15, 10, 1, 6, 9, 3, 2, 19, 13, 4, 0, 11, 18]\n"
          ]
        }
      ]
    },
    {
      "cell_type": "code",
      "source": [
        "def merge_sort(A):\n",
        "    if len(A) <= 1:\n",
        "        return A\n",
        "    mid = len(A)//2\n",
        "    # print(mid)\n",
        "    low_a = merge_sort(A[:mid])\n",
        "    high_a = merge_sort(A[mid:])\n",
        "    # print(low_a,high_a)\n",
        "    # print(merge(low_a,high_a))\n",
        "    return merge(low_a,high_a)\n",
        "\n",
        "def merge(left,right):\n",
        "    sorted_list = []\n",
        "    i, j = 0, 0\n",
        "    while i < len(left) and j < len(right):\n",
        "        if left[i] < right[j]:\n",
        "            sorted_list.append(left[i])\n",
        "            i += 1\n",
        "        else:\n",
        "            sorted_list.append(right[j])\n",
        "            j += 1\n",
        "\n",
        "    sorted_list += left[i:]\n",
        "    sorted_list += right[j:]\n",
        "    return sorted_list\n"
      ],
      "metadata": {
        "id": "Cn-yQp2rshUs"
      },
      "execution_count": 14,
      "outputs": []
    },
    {
      "cell_type": "code",
      "source": [
        "list_a"
      ],
      "metadata": {
        "colab": {
          "base_uri": "https://localhost:8080/"
        },
        "id": "5t1G14DfujSX",
        "outputId": "f7e6af5a-5c81-41b8-c4fd-8e0b55d45788"
      },
      "execution_count": 15,
      "outputs": [
        {
          "output_type": "execute_result",
          "data": {
            "text/plain": [
              "[8, 17, 14, 12, 5, 16, 7, 15, 10, 1, 6, 9, 3, 2, 19, 13, 4, 0, 11, 18]"
            ]
          },
          "metadata": {},
          "execution_count": 15
        }
      ]
    },
    {
      "cell_type": "code",
      "source": [
        "%%time\n",
        "merge_sort(list_a)"
      ],
      "metadata": {
        "colab": {
          "base_uri": "https://localhost:8080/"
        },
        "id": "Vk1WV7vptDBD",
        "outputId": "a0268865-3320-4a60-d85f-0bed64806215"
      },
      "execution_count": 16,
      "outputs": [
        {
          "output_type": "stream",
          "name": "stdout",
          "text": [
            "CPU times: user 74 µs, sys: 12 µs, total: 86 µs\n",
            "Wall time: 91.1 µs\n"
          ]
        },
        {
          "output_type": "execute_result",
          "data": {
            "text/plain": [
              "[0, 1, 2, 3, 4, 5, 6, 7, 8, 9, 10, 11, 12, 13, 14, 15, 16, 17, 18, 19]"
            ]
          },
          "metadata": {},
          "execution_count": 16
        }
      ]
    },
    {
      "cell_type": "code",
      "source": [
        "%%time\n",
        "sort_selection(list_a)"
      ],
      "metadata": {
        "colab": {
          "base_uri": "https://localhost:8080/"
        },
        "id": "4bJ4cjdQueJ0",
        "outputId": "fb6506c2-1cf5-40b6-a884-db4325713140"
      },
      "execution_count": 17,
      "outputs": [
        {
          "output_type": "stream",
          "name": "stdout",
          "text": [
            "CPU times: user 33 µs, sys: 6 µs, total: 39 µs\n",
            "Wall time: 41.5 µs\n"
          ]
        },
        {
          "output_type": "execute_result",
          "data": {
            "text/plain": [
              "[0, 1, 2, 3, 4, 5, 6, 7, 8, 9, 10, 11, 12, 13, 14, 15, 16, 17, 18, 19]"
            ]
          },
          "metadata": {},
          "execution_count": 17
        }
      ]
    },
    {
      "cell_type": "markdown",
      "source": [
        "## Count sort"
      ],
      "metadata": {
        "id": "6xsojWoBIdIT"
      }
    },
    {
      "cell_type": "code",
      "source": [
        "list_b = [2,3,2,1,3,2,2,3,2,2,2,1]"
      ],
      "metadata": {
        "id": "9i7sEnOBz9to"
      },
      "execution_count": 76,
      "outputs": []
    },
    {
      "cell_type": "code",
      "source": [
        "def count_sort(arr):\n",
        "    # ステップ1: 入力配列の最大値と最小値を見つける\n",
        "    max_val = max(arr)\n",
        "    min_val = min(arr)\n",
        "\n",
        "    # ステップ2: カウント配列を初期化する\n",
        "    range_of_elements = max_val - min_val + 1\n",
        "    count_arr = [0] * range_of_elements\n",
        "    output_arr = [0] * len(arr)\n",
        "\n",
        "    # ステップ3: 出現回数をカウントする\n",
        "    for num in arr:\n",
        "        count_arr[num - min_val] += 1\n",
        "\n",
        "    # ステップ4: 累積和を計算する\n",
        "    for i in range(1, len(count_arr)):\n",
        "        count_arr[i] += count_arr[i - 1]\n",
        "\n",
        "    # ステップ5: 出力配列を作成する\n",
        "    for num in reversed(arr):\n",
        "        output_arr[count_arr[num - min_val] - 1] = num\n",
        "        count_arr[num - min_val] -= 1\n",
        "\n",
        "    # ステップ6: 結果を入力配列にコピーする（必要な場合）\n",
        "    for i in range(len(arr)):\n",
        "        arr[i] = output_arr[i]\n",
        "\n",
        "    return output_arr"
      ],
      "metadata": {
        "id": "grnUHP5oIjsF"
      },
      "execution_count": 79,
      "outputs": []
    },
    {
      "cell_type": "code",
      "source": [
        "count_sort(list_b)"
      ],
      "metadata": {
        "colab": {
          "base_uri": "https://localhost:8080/"
        },
        "id": "OaZ5GP0uIx3B",
        "outputId": "cebffed6-0d31-4afc-e22d-2cd18157f535"
      },
      "execution_count": 80,
      "outputs": [
        {
          "output_type": "execute_result",
          "data": {
            "text/plain": [
              "[1, 1, 2, 2, 2, 2, 2, 2, 2, 3, 3, 3]"
            ]
          },
          "metadata": {},
          "execution_count": 80
        }
      ]
    },
    {
      "cell_type": "code",
      "source": [
        "for num in list_b:\n",
        "    count_arr[num-min_val] += 1\n",
        "print(count_arr)"
      ],
      "metadata": {
        "colab": {
          "base_uri": "https://localhost:8080/"
        },
        "id": "YmjsyGPxJGIP",
        "outputId": "b7f023ee-0bd6-4a55-c349-8110a643de64"
      },
      "execution_count": 31,
      "outputs": [
        {
          "output_type": "stream",
          "name": "stdout",
          "text": [
            "[2, 7, 3]\n"
          ]
        }
      ]
    },
    {
      "cell_type": "code",
      "source": [
        "for i in range(1,len(count_arr)):\n",
        "    count_arr[i] += count_arr[i-1]\n",
        "print(count_arr)"
      ],
      "metadata": {
        "colab": {
          "base_uri": "https://localhost:8080/"
        },
        "id": "6g1zEAANJm49",
        "outputId": "1456f0db-6caf-4ca1-beda-164c2b0fd4d8"
      },
      "execution_count": 33,
      "outputs": [
        {
          "output_type": "stream",
          "name": "stdout",
          "text": [
            "[2, 9, 12]\n"
          ]
        }
      ]
    },
    {
      "cell_type": "code",
      "source": [
        "for num in reversed(list_b):\n",
        "    output_arr[count_arr[num-min_val]-1] = num\n",
        "    count_arr[num-min_val] -= 1\n",
        "    print(output_arr)"
      ],
      "metadata": {
        "colab": {
          "base_uri": "https://localhost:8080/"
        },
        "id": "I9xImSL_KHCN",
        "outputId": "b1449330-55f6-4cc6-ff52-cebd2f87f4f7"
      },
      "execution_count": 36,
      "outputs": [
        {
          "output_type": "stream",
          "name": "stdout",
          "text": [
            "[1, 1, 2, 2, 2, 2, 2, 2, 2, 3, 3, 1]\n",
            "[1, 2, 2, 2, 2, 2, 2, 2, 2, 3, 3, 1]\n",
            "[2, 2, 2, 2, 2, 2, 2, 2, 2, 3, 3, 1]\n",
            "[2, 2, 2, 2, 2, 2, 2, 2, 2, 3, 3, 2]\n",
            "[2, 2, 2, 2, 2, 2, 2, 2, 3, 3, 3, 2]\n",
            "[2, 2, 2, 2, 2, 2, 2, 2, 3, 3, 2, 2]\n",
            "[2, 2, 2, 2, 2, 2, 2, 2, 3, 2, 2, 2]\n",
            "[2, 2, 2, 2, 2, 2, 2, 3, 3, 2, 2, 2]\n",
            "[2, 2, 2, 2, 2, 2, 2, 3, 3, 2, 1, 2]\n",
            "[2, 2, 2, 2, 2, 2, 2, 3, 2, 2, 1, 2]\n",
            "[2, 2, 2, 2, 2, 2, 3, 3, 2, 2, 1, 2]\n",
            "[2, 2, 2, 2, 2, 2, 3, 2, 2, 2, 1, 2]\n"
          ]
        }
      ]
    },
    {
      "cell_type": "markdown",
      "source": [
        "## QuickSort  \n",
        "1. 基準値の選択:  \n",
        "配列から1つの要素を基準値（pivot）として選びます。この選択方法はさまざまですが、最も一般的なのは最初の要素、最後の要素、中央の要素、またはランダムに選ぶ方法です。\n",
        "\n",
        "2. 分割:  \n",
        "配列を基準値を基準にして2つの部分に分けます。基準値より小さい要素を一方に、基準値より大きい要素を他方に分けます。\n",
        "\n",
        "3. 再帰的ソート:  \n",
        "分割された部分配列に対して、再びQuickSortを適用します。この操作を部分配列のサイズが1になるまで繰り返します。\n",
        "\n",
        "4. 結合:  \n",
        "基準値を中心にして分割された部分配列を結合します。これにより、全体がソートされた配列が得られます。"
      ],
      "metadata": {
        "id": "-ygqK9oyaXkp"
      }
    },
    {
      "cell_type": "code",
      "source": [
        "def quicksort(arr):\n",
        "    # 配列が1以下の長さの場合、すでにソートされているのでそのまま返す\n",
        "    if len(arr) <= 1:\n",
        "        return arr\n",
        "\n",
        "    # 基準値の選択（ここでは配列の最後の要素を基準値として選ぶ）\n",
        "    pivot = arr[-1]\n",
        "    left = []\n",
        "    right = []\n",
        "    equal = []\n",
        "\n",
        "    # 配列を基準値を基準にして分割する\n",
        "    for x in arr:\n",
        "        if x < pivot:\n",
        "            left.append(x)\n",
        "        elif x > pivot:\n",
        "            right.append(x)\n",
        "        else:\n",
        "            equal.append(x)\n",
        "    print(left,equal,right)\n",
        "\n",
        "    # 再帰的にソートして結合する\n",
        "    return quicksort(left) + equal + quicksort(right)\n"
      ],
      "metadata": {
        "id": "zytDwWOmKozN"
      },
      "execution_count": 68,
      "outputs": []
    },
    {
      "cell_type": "code",
      "source": [
        "list_a"
      ],
      "metadata": {
        "colab": {
          "base_uri": "https://localhost:8080/"
        },
        "id": "V-3hXCdyb1lI",
        "outputId": "a659abdb-28bb-43ab-e39f-94d060965d34"
      },
      "execution_count": 69,
      "outputs": [
        {
          "output_type": "execute_result",
          "data": {
            "text/plain": [
              "[11, 14, 16, 3, 7, 0, 9, 4, 6, 15, 13, 2, 8, 17, 10, 18, 5, 1, 19, 12]"
            ]
          },
          "metadata": {},
          "execution_count": 69
        }
      ]
    },
    {
      "cell_type": "code",
      "source": [
        "quicksort(list_a)"
      ],
      "metadata": {
        "colab": {
          "base_uri": "https://localhost:8080/"
        },
        "id": "pmT9uc-ibDpR",
        "outputId": "992cd631-28bb-4deb-e7a2-d70c48746217"
      },
      "execution_count": 71,
      "outputs": [
        {
          "output_type": "stream",
          "name": "stdout",
          "text": [
            "[11, 3, 7, 0, 9, 4, 6, 2, 8, 10, 5, 1] [12] [14, 16, 15, 13, 17, 18, 19]\n",
            "[0] [1] [11, 3, 7, 9, 4, 6, 2, 8, 10, 5]\n",
            "[3, 4, 2] [5] [11, 7, 9, 6, 8, 10]\n",
            "[] [2] [3, 4]\n",
            "[3] [4] []\n",
            "[7, 9, 6, 8] [10] [11]\n",
            "[7, 6] [8] [9]\n",
            "[] [6] [7]\n",
            "[14, 16, 15, 13, 17, 18] [19] []\n",
            "[14, 16, 15, 13, 17] [18] []\n",
            "[14, 16, 15, 13] [17] []\n",
            "[] [13] [14, 16, 15]\n",
            "[14] [15] [16]\n"
          ]
        },
        {
          "output_type": "execute_result",
          "data": {
            "text/plain": [
              "[0, 1, 2, 3, 4, 5, 6, 7, 8, 9, 10, 11, 12, 13, 14, 15, 16, 17, 18, 19]"
            ]
          },
          "metadata": {},
          "execution_count": 71
        }
      ]
    },
    {
      "cell_type": "markdown",
      "source": [
        "### QuickSortの特徴\n",
        "- 時間計算量:\n",
        "    - 平均ケース: O(n log n)  \n",
        "    - 最悪ケース: O(n^2)（ただし、適切な基準値の選択により最悪ケースを避けることが可能）  \n",
        "- 空間計算量: O(log n)（再帰呼び出しのスタックスペースが主な要因）  \n",
        "- 不安定なソート: QuickSortは不安定なソートアルゴリズムであり、同じ値を持つ要素の相対的な順序は保持されない場合があります。"
      ],
      "metadata": {
        "id": "FdeSa3bBkLwi"
      }
    },
    {
      "cell_type": "markdown",
      "source": [
        "### 基準値の選択方法  \n",
        "基準値の選択方法はQuickSortのパフォーマンスに大きな影響を与えます。以下は一般的な選択方法です：\n",
        "\n",
        "- 最初の要素: 配列の最初の要素を基準値にする。  \n",
        "- 最後の要素: 配列の最後の要素を基準値にする（上記の実装）。  \n",
        "- 中央の要素: 配列の中央の要素を基準値にする。  \n",
        "- ランダムな要素: 配列の中からランダムに選ぶ。  \n",
        "- メディアン・オブ・スリー: 最初の要素、最後の要素、中央の要素の中から中央値を基準値に選ぶ。  \n"
      ],
      "metadata": {
        "id": "RMOM_74GkkiL"
      }
    },
    {
      "cell_type": "markdown",
      "source": [
        "### 最適化\n",
        "最悪ケースを避けるためには、以下のような最適化が考えられます：\n",
        "\n",
        "- ランダム化: ランダムに基準値を選ぶことで、特定のパターンの入力による最悪ケースを避ける。  \n",
        "- メディアン・オブ・スリー: より良い基準値を選ぶために、メディアン・オブ・スリーを使用する。\n",
        "\n",
        "QuickSortは、その効率性と簡潔さから、多くのプログラミング言語の標準ライブラリで使用されている非常に強力なソートアルゴリズムです。"
      ],
      "metadata": {
        "id": "pk862MiFk0uX"
      }
    },
    {
      "cell_type": "markdown",
      "source": [],
      "metadata": {
        "id": "IT0ctKQNeE20"
      }
    }
  ]
}