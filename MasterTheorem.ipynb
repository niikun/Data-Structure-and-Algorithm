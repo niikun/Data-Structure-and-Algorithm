{
  "nbformat": 4,
  "nbformat_minor": 0,
  "metadata": {
    "colab": {
      "provenance": [],
      "authorship_tag": "ABX9TyP7zaDTl+hlGDIWHcXse41q",
      "include_colab_link": true
    },
    "kernelspec": {
      "name": "python3",
      "display_name": "Python 3"
    },
    "language_info": {
      "name": "python"
    }
  },
  "cells": [
    {
      "cell_type": "markdown",
      "metadata": {
        "id": "view-in-github",
        "colab_type": "text"
      },
      "source": [
        "<a href=\"https://colab.research.google.com/github/niikun/Data-Structure-and-Algorithm/blob/main/MasterTheorem.ipynb\" target=\"_parent\"><img src=\"https://colab.research.google.com/assets/colab-badge.svg\" alt=\"Open In Colab\"/></a>"
      ]
    },
    {
      "cell_type": "markdown",
      "source": [
        "# Master Theorem\n",
        "if   $T(n) = a T(n)(\\frac{n}{b}) + O(n^d)$   \n",
        "$$\n",
        "T(n) = O(n^d) :  if d > log_ba\n",
        "$$\n",
        "$$\n",
        "T(n) = O(n^dlogn)  : if d = log_ba\n",
        "$$\n",
        "$$\n",
        "T(n) = O(n^{log_ba})  :if d <log_ba\n",
        "$$\n"
      ],
      "metadata": {
        "id": "SgWgeqYT6RPC"
      }
    },
    {
      "cell_type": "markdown",
      "source": [
        "マスター定理を簡単に説明します。再帰的なアルゴリズムの時間計算量を求めるための方法で、再帰関係式が次の形をしている場合に使えます：\n",
        "\n",
        "𝑇(𝑛)=𝑎⋅𝑇(𝑛𝑏)+𝑓(𝑛)\n",
        "\n",
        "ここで、  \n",
        "- 𝑎 は再帰呼び出しの回数、  \n",
        "- 𝑏 は問題サイズを分割する割合（例えば、半分に分割するなら 𝑏=2）、  \n",
        "- 𝑓(𝑛) は分割と統合にかかる時間。\n",
        "\n",
        "マスター定理はこの再帰関係式を解析して、次の3つのケースに分けて時間計算量を求めます：\n",
        "\n",
        "###  **ケース1: 𝑓(𝑛) が 𝑛log⁡𝑏𝑎 よりも成長が遅い場合**   \n",
        "この場合、分割して統合する部分の時間よりも再帰呼び出しの回数が支配的になります。  \n",
        "結果として、  \n",
        "**$𝑇(𝑛)=𝑂(𝑛^{log⁡_𝑏𝑎})$**\n",
        "\n",
        "### **ケース2: 𝑓(𝑛)が 𝑛log⁡𝑏𝑎 と同じ成長速度の場合**\n",
        "この場合、再帰呼び出しの回数と分割・統合の時間がバランスします。  \n",
        "結果として、  \n",
        "**$𝑇(𝑛)=𝑂(𝑛^{d}log𝑛)$**\n",
        "\n",
        "### **ケース3: 𝑓(𝑛)f(n) が 𝑛log⁡𝑏𝑎n よりも成長が速い場合**  \n",
        "この場合、分割して統合する部分の時間が支配的になります。  \n",
        "結果として、  \n",
        "**$𝑇(𝑛)=𝑂(𝑛^d)$**\n",
        "\n",
        "#### **具体例**\n",
        "具体的な例として、$T(n)=2T(\\frac{2}{n})+n $を考えてみます。\n",
        "\n",
        "- 𝑎=2\n",
        "- 𝑏=2\n",
        "- 𝑓(𝑛)=𝑛\n",
        "\n",
        "ここで $log𝑏𝑎=log_22=1$  なので、比較するべき成長率は $𝑛^1$ です。\n",
        "\n",
        "𝑓(𝑛)=𝑛、\n",
        "𝑓(𝑛)f(n) と 𝑛log𝑏𝑎  は同じ成長速度です。\n",
        "したがって、ケース2が適用されて、\n",
        "\n",
        "𝑇(𝑛)=𝑂(𝑛log⁡𝑛)\n",
        "\n",
        "となります。\n",
        "\n",
        "このように、マスター定理を使うと再帰的なアルゴリズムの時間計算量を簡単に求めることができます。"
      ],
      "metadata": {
        "id": "LhnktfZ1-ge-"
      }
    },
    {
      "cell_type": "code",
      "execution_count": 6,
      "metadata": {
        "colab": {
          "base_uri": "https://localhost:8080/"
        },
        "id": "CRzW2K4R5-Oh",
        "outputId": "875e248c-7967-4387-bec3-49b883029209"
      },
      "outputs": [
        {
          "output_type": "execute_result",
          "data": {
            "text/plain": [
              "364.0"
            ]
          },
          "metadata": {},
          "execution_count": 6
        }
      ],
      "source": [
        "(3**6-1)/2"
      ]
    },
    {
      "cell_type": "code",
      "source": [
        "1+3+9+27+81+243"
      ],
      "metadata": {
        "colab": {
          "base_uri": "https://localhost:8080/"
        },
        "id": "hI4vWHmcH9yl",
        "outputId": "7409e95a-5ba2-45af-9cdd-53d9ae5add82"
      },
      "execution_count": 4,
      "outputs": [
        {
          "output_type": "execute_result",
          "data": {
            "text/plain": [
              "364"
            ]
          },
          "metadata": {},
          "execution_count": 4
        }
      ]
    },
    {
      "cell_type": "code",
      "source": [
        "import numpy as np\n",
        "np.log2(1)"
      ],
      "metadata": {
        "colab": {
          "base_uri": "https://localhost:8080/"
        },
        "id": "6W94-zxzIeOt",
        "outputId": "00bf5ae7-c0e1-4fec-c892-f0f89b595fc4"
      },
      "execution_count": 8,
      "outputs": [
        {
          "output_type": "execute_result",
          "data": {
            "text/plain": [
              "0.0"
            ]
          },
          "metadata": {},
          "execution_count": 8
        }
      ]
    },
    {
      "cell_type": "code",
      "source": [],
      "metadata": {
        "id": "jiCysB2yKqT5"
      },
      "execution_count": null,
      "outputs": []
    }
  ]
}