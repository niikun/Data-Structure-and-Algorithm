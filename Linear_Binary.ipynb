{
  "nbformat": 4,
  "nbformat_minor": 0,
  "metadata": {
    "colab": {
      "provenance": [],
      "authorship_tag": "ABX9TyMRbCIdfuR58ZDVvsKUriQ5",
      "include_colab_link": true
    },
    "kernelspec": {
      "name": "python3",
      "display_name": "Python 3"
    },
    "language_info": {
      "name": "python"
    }
  },
  "cells": [
    {
      "cell_type": "markdown",
      "metadata": {
        "id": "view-in-github",
        "colab_type": "text"
      },
      "source": [
        "<a href=\"https://colab.research.google.com/github/niikun/Data-Structure-and-Algorithm/blob/main/Linear_Binary.ipynb\" target=\"_parent\"><img src=\"https://colab.research.google.com/assets/colab-badge.svg\" alt=\"Open In Colab\"/></a>"
      ]
    },
    {
      "cell_type": "code",
      "source": [],
      "metadata": {
        "id": "Mv6_rxHq-YfP"
      },
      "execution_count": null,
      "outputs": []
    },
    {
      "cell_type": "markdown",
      "source": [
        "## Linear_and_Binary_Search"
      ],
      "metadata": {
        "id": "Swyw6uUQ-gT3"
      }
    },
    {
      "cell_type": "markdown",
      "source": [
        "### Searching in an array\n",
        "* input : An array A with n elements.  \n",
        " low,high\n",
        "  A key $k$\n",
        "* output: An index, i, where A[i] =k.\n",
        "if there is no such i ,then return NOT_FOUND\n"
      ],
      "metadata": {
        "id": "m_PV0mwd-X1l"
      }
    },
    {
      "cell_type": "code",
      "execution_count": 30,
      "metadata": {
        "id": "S6xVDGnF-QXB"
      },
      "outputs": [],
      "source": [
        "input = [i for i in range(100)]\n",
        "key_worst = 99\n",
        "key_best=0"
      ]
    },
    {
      "cell_type": "code",
      "source": [
        "input[-5:]"
      ],
      "metadata": {
        "colab": {
          "base_uri": "https://localhost:8080/"
        },
        "id": "GFCw-lSBD0oz",
        "outputId": "5697b06b-f610-4cd6-a4e1-e09e5f76712a"
      },
      "execution_count": 20,
      "outputs": [
        {
          "output_type": "execute_result",
          "data": {
            "text/plain": [
              "[95, 96, 97, 98, 99]"
            ]
          },
          "metadata": {},
          "execution_count": 20
        }
      ]
    },
    {
      "cell_type": "markdown",
      "source": [
        "#### Recursive Solution\n",
        "再帰的アプローチは関数呼び出しごとにスタックフレームを作成するため、非常に長いリストの場合、スタックオーバーフローのリスクがあります。"
      ],
      "metadata": {
        "id": "9X73DJ-9B4wB"
      }
    },
    {
      "cell_type": "code",
      "source": [
        "def linear_search(input,low, high, key):\n",
        "\n",
        "    if high < low:\n",
        "        return \"NOT_FOUND\"\n",
        "    if input[low] == key:\n",
        "        return low\n",
        "\n",
        "    return linear_search(input,low+1,high,key)"
      ],
      "metadata": {
        "id": "qWfkmXtq_aYr"
      },
      "execution_count": 26,
      "outputs": []
    },
    {
      "cell_type": "code",
      "source": [
        "%%time\n",
        "linear_search(input,0,99,key_best)"
      ],
      "metadata": {
        "colab": {
          "base_uri": "https://localhost:8080/"
        },
        "id": "yehnhfVcH5Cx",
        "outputId": "616788ea-3336-43c5-ff6d-aaa6a64c941e"
      },
      "execution_count": 33,
      "outputs": [
        {
          "output_type": "stream",
          "name": "stdout",
          "text": [
            "CPU times: user 7 µs, sys: 0 ns, total: 7 µs\n",
            "Wall time: 11.4 µs\n"
          ]
        },
        {
          "output_type": "execute_result",
          "data": {
            "text/plain": [
              "0"
            ]
          },
          "metadata": {},
          "execution_count": 33
        }
      ]
    },
    {
      "cell_type": "code",
      "source": [
        "%%time\n",
        "linear_search(input,0,99,key_worst)"
      ],
      "metadata": {
        "colab": {
          "base_uri": "https://localhost:8080/"
        },
        "id": "Gpa7kSqkAvB2",
        "outputId": "196eb7c2-10d5-4b27-c32d-dd133015ed33"
      },
      "execution_count": 31,
      "outputs": [
        {
          "output_type": "stream",
          "name": "stdout",
          "text": [
            "CPU times: user 71 µs, sys: 0 ns, total: 71 µs\n",
            "Wall time: 83.2 µs\n"
          ]
        },
        {
          "output_type": "execute_result",
          "data": {
            "text/plain": [
              "99"
            ]
          },
          "metadata": {},
          "execution_count": 31
        }
      ]
    },
    {
      "cell_type": "markdown",
      "source": [
        "### Iteration\n",
        "反復的アプローチは一般的に再帰よりも効率的で、特に非常に長いリストの場合にスタックオーバーフローのリスクがありません。"
      ],
      "metadata": {
        "id": "0CJQSeeULcnN"
      }
    },
    {
      "cell_type": "markdown",
      "source": [],
      "metadata": {
        "id": "hAhEVujgMSW_"
      }
    },
    {
      "cell_type": "code",
      "source": [
        "def linear_search2(input, key,i=0):\n",
        "\n",
        "    for i in range(len(input)):\n",
        "        if key == input[i]:\n",
        "            return i\n",
        "    return \"NOT_FOUND\"\n"
      ],
      "metadata": {
        "id": "ZbYzvoKSAxxQ"
      },
      "execution_count": 28,
      "outputs": []
    },
    {
      "cell_type": "code",
      "source": [
        "%%time\n",
        "linear_search2(input, key_best)"
      ],
      "metadata": {
        "colab": {
          "base_uri": "https://localhost:8080/"
        },
        "id": "VWDl1FPTH8c0",
        "outputId": "9d1ddc91-e31e-45e9-8b83-21b1352a461b"
      },
      "execution_count": 35,
      "outputs": [
        {
          "output_type": "stream",
          "name": "stdout",
          "text": [
            "CPU times: user 9 µs, sys: 0 ns, total: 9 µs\n",
            "Wall time: 13.6 µs\n"
          ]
        },
        {
          "output_type": "execute_result",
          "data": {
            "text/plain": [
              "0"
            ]
          },
          "metadata": {},
          "execution_count": 35
        }
      ]
    },
    {
      "cell_type": "code",
      "source": [
        "%%time\n",
        "linear_search2(input,key_worst)"
      ],
      "metadata": {
        "colab": {
          "base_uri": "https://localhost:8080/"
        },
        "id": "gCaGd4mXBVzW",
        "outputId": "85c01787-88d7-4e1a-80a0-7f1f5e9b0bb6"
      },
      "execution_count": 32,
      "outputs": [
        {
          "output_type": "stream",
          "name": "stdout",
          "text": [
            "CPU times: user 17 µs, sys: 2 µs, total: 19 µs\n",
            "Wall time: 23.4 µs\n"
          ]
        },
        {
          "output_type": "execute_result",
          "data": {
            "text/plain": [
              "99"
            ]
          },
          "metadata": {},
          "execution_count": 32
        }
      ]
    },
    {
      "cell_type": "markdown",
      "source": [
        "### 再帰 vs 反復:\n",
        "\n",
        "再帰はエレガントで読みやすい場合がありますが、深い再帰はパフォーマンスとメモリの観点から問題を引き起こす可能性があります。\n",
        "反復的アプローチは一般的に効率的で、特にリストが非常に長い場合に有利です。\n",
        "- パフォーマンス:\n",
        "\n",
        "どちらの実装もリストの各要素を一度ずつチェックするため、最悪ケースの時間計算量はO(n)です。\n",
        "ただし、再帰的アプローチは関数呼び出しのオーバーヘッドがあるため、反復的アプローチの方が実際のパフォーマンスは良いことが多いです。  \n",
        "\n",
        "- 可読性とメンテナンス:\n",
        "\n",
        "code1は再帰的な考え方を好む人にとっては直感的かもしれませんが、再帰に不慣れな人にとっては理解しづらいかもしれません。\n",
        "code2はシンプルで直感的なforループを使用しており、広く理解されやすいです。"
      ],
      "metadata": {
        "id": "fWbLIpH5MTZn"
      }
    },
    {
      "cell_type": "markdown",
      "source": [
        "## Binary Search"
      ],
      "metadata": {
        "id": "pOzK6EY0MkJx"
      }
    },
    {
      "cell_type": "markdown",
      "source": [
        "### Searching in an array\n",
        "- input : A sorted array A[low,...,high]\n",
        " key  k\n",
        "- output: An index, i,(low $\\leq$ i＜High where A[i] =k.  \n",
        "Otherwise the greatest index i ,where A[i]<k.  \n",
        "Otherwise (k<A[low]),the result is low -1\n"
      ],
      "metadata": {
        "id": "CLKC6uj6Mx4w"
      }
    },
    {
      "cell_type": "code",
      "source": [
        "input = [i for i in range(100)]\n",
        "key_worst = 99\n",
        "key_best=0"
      ],
      "metadata": {
        "id": "O338kQD0Mj55"
      },
      "execution_count": 36,
      "outputs": []
    },
    {
      "cell_type": "markdown",
      "source": [
        "##### linear search"
      ],
      "metadata": {
        "id": "STtPLbbdRM6O"
      }
    },
    {
      "cell_type": "code",
      "source": [
        "def linear_search(input,key,low=0,high=99):\n",
        "    if low > high:\n",
        "        return \"NOT_FOUND\"\n",
        "    elif input[low]==key:\n",
        "        return low\n",
        "    return linear_search(input, key, low+1, high)"
      ],
      "metadata": {
        "id": "QVLs5eQsBXZD"
      },
      "execution_count": 38,
      "outputs": []
    },
    {
      "cell_type": "code",
      "source": [
        "%%time\n",
        "linear_search(input,key_best)"
      ],
      "metadata": {
        "colab": {
          "base_uri": "https://localhost:8080/"
        },
        "id": "vJUSzV5YQpI9",
        "outputId": "66b6176b-bef7-4197-cbae-29810cb7af08"
      },
      "execution_count": 40,
      "outputs": [
        {
          "output_type": "stream",
          "name": "stdout",
          "text": [
            "CPU times: user 7 µs, sys: 0 ns, total: 7 µs\n",
            "Wall time: 87.3 µs\n"
          ]
        },
        {
          "output_type": "execute_result",
          "data": {
            "text/plain": [
              "0"
            ]
          },
          "metadata": {},
          "execution_count": 40
        }
      ]
    },
    {
      "cell_type": "code",
      "source": [
        "%%time\n",
        "linear_search(input,key_worst)"
      ],
      "metadata": {
        "colab": {
          "base_uri": "https://localhost:8080/"
        },
        "id": "KQK29tSwRDE_",
        "outputId": "b2b4125c-2594-4c2c-cce9-0572142aa2ae"
      },
      "execution_count": 41,
      "outputs": [
        {
          "output_type": "stream",
          "name": "stdout",
          "text": [
            "CPU times: user 102 µs, sys: 12 µs, total: 114 µs\n",
            "Wall time: 118 µs\n"
          ]
        },
        {
          "output_type": "execute_result",
          "data": {
            "text/plain": [
              "99"
            ]
          },
          "metadata": {},
          "execution_count": 41
        }
      ]
    },
    {
      "cell_type": "code",
      "source": [
        "input2 = [3,5,8,20,20,50,60]"
      ],
      "metadata": {
        "id": "prnXIxS_S8VU"
      },
      "execution_count": 1,
      "outputs": []
    },
    {
      "cell_type": "markdown",
      "source": [
        "#### linear search\n",
        "- メリット:  \n",
        "実装が簡単で理解しやすい。\n",
        "要素が小規模なリストに対しては有効。\n",
        "- デメリット:  \n",
        "大規模なリストでは効率が悪い（時間計算量は O(n)）。"
      ],
      "metadata": {
        "id": "DaG7a5mB8b-U"
      }
    },
    {
      "cell_type": "code",
      "source": [
        "def search_linear(input,key):\n",
        "    if key < input[0]:\n",
        "        return 0\n",
        "    elif key > input[-1]:\n",
        "        return len(input)\n",
        "    elif key in input:\n",
        "        return input.index(key)+1\n",
        "    else:\n",
        "        for i in range(len(input)):\n",
        "            if key<input[i]:\n",
        "                return i"
      ],
      "metadata": {
        "id": "8wLhxdr3sAGr"
      },
      "execution_count": 24,
      "outputs": []
    },
    {
      "cell_type": "code",
      "source": [
        "%%time\n",
        "keys = [2,3,4,20,60,90]\n",
        "for key in keys:\n",
        "    print(search_linear(input2,key))"
      ],
      "metadata": {
        "colab": {
          "base_uri": "https://localhost:8080/"
        },
        "id": "lwbtYcl2teAD",
        "outputId": "e982a938-e968-4eb4-e620-2622994a181a"
      },
      "execution_count": 25,
      "outputs": [
        {
          "output_type": "stream",
          "name": "stdout",
          "text": [
            "0\n",
            "1\n",
            "1\n",
            "4\n",
            "7\n",
            "7\n",
            "CPU times: user 1.14 ms, sys: 0 ns, total: 1.14 ms\n",
            "Wall time: 917 µs\n"
          ]
        }
      ]
    },
    {
      "cell_type": "markdown",
      "source": [
        "#### Binary Search  \n",
        "- メリット:  \n",
        "大規模なリストに対して非常に効率的（時間計算量は $O(log n)$）。  \n",
        "ソートされたリストに対して適用可能。  \n",
        "- デメリット:  \n",
        "\n",
        "実装がリニアサーチよりも複雑。\n",
        "リストがソートされていないと使用できない。"
      ],
      "metadata": {
        "id": "PyHiohUj8rQd"
      }
    },
    {
      "cell_type": "markdown",
      "source": [
        "**動作説明**  \n",
        "1. low が high より大きい場合、low - 1 を返す（リストに key が含まれていないことを示す）。  \n",
        "2. 中央インデックス mid を計算し、key がその位置にあるかをチェックする。  \n",
        "3. key が中央要素より小さい場合、左半分を再帰的に検索する。  \n",
        "4.  key が中央要素より大きい場合、右半分を再帰的に検索する。"
      ],
      "metadata": {
        "id": "f2te-49x9LOr"
      }
    },
    {
      "cell_type": "code",
      "source": [
        "def search_binary(A,low,high,key):\n",
        "    if high <low:\n",
        "        return low-1\n",
        "    mid = low + (high-low)//2\n",
        "    if key == A[mid-1]:\n",
        "        return mid\n",
        "    elif key < A[mid-1]:\n",
        "        return binary_search(A,low,mid-1,key)\n",
        "    else:\n",
        "        return binary_search(A,mid+1,high,key)"
      ],
      "metadata": {
        "id": "UjqnwNW88OEa"
      },
      "execution_count": 28,
      "outputs": []
    },
    {
      "cell_type": "code",
      "source": [
        "%%time\n",
        "keys = [2,3,4,20,60,90]\n",
        "for key in keys:\n",
        "    print(search_binary(input2,1,7,key))"
      ],
      "metadata": {
        "colab": {
          "base_uri": "https://localhost:8080/"
        },
        "id": "I--U_8922hiu",
        "outputId": "3a0dac9b-e193-4542-b422-3cbe262fa6a2"
      },
      "execution_count": 29,
      "outputs": [
        {
          "output_type": "stream",
          "name": "stdout",
          "text": [
            "0\n",
            "1\n",
            "1\n",
            "4\n",
            "7\n",
            "7\n",
            "CPU times: user 3.32 ms, sys: 0 ns, total: 3.32 ms\n",
            "Wall time: 3.45 ms\n"
          ]
        }
      ]
    },
    {
      "cell_type": "markdown",
      "source": [
        "####  Iterative Binary Search"
      ],
      "metadata": {
        "id": "3-S5shiFBMM7"
      }
    },
    {
      "cell_type": "markdown",
      "source": [
        "**動作説明**  \n",
        "\n",
        "- この関数はループを使用してバイナリサーチを実行します。\n",
        "- low が high より小さい間、ループを繰り返します。\n",
        "- 中央インデックス mid を計算し、key と中央要素を比較します。\n",
        "- key が中央要素より小さい場合、high を更新します。\n",
        "- key が中央要素より大きい場合、low を更新します。\n",
        "- ループが終了すると、low - 1 を返します。  \n",
        "\n",
        "**メリット**  \n",
        "- メモリ効率: 再帰呼び出しがないため、スタックオーバーフローのリスクがありません。\n",
        "- 実装の単純さ: 再帰的な関数よりも理解しやすい場合があります。  \n",
        "\n",
        "**デメリット**\n",
        "- コードの可読性: 再帰的なアプローチと比較して、特定の状況では読みづらい場合があります。"
      ],
      "metadata": {
        "id": "VOC1fOEAAjBU"
      }
    },
    {
      "cell_type": "code",
      "source": [
        "def search_binary2(A,low,high,key):\n",
        "    while low <=high:\n",
        "        mid = low + (high-low)//2\n",
        "        if key == A[mid-1]:\n",
        "            return mid\n",
        "        elif key< A[mid-1]:\n",
        "            high = mid-1\n",
        "        else:\n",
        "            low = mid+1\n",
        "    return low-1"
      ],
      "metadata": {
        "id": "lzL-hQ6b6DPJ"
      },
      "execution_count": 34,
      "outputs": []
    },
    {
      "cell_type": "code",
      "source": [
        "%%time\n",
        "keys = [2,3,4,20,60,90]\n",
        "for key in keys:\n",
        "    print(search_binary2(input2,1,7,key))"
      ],
      "metadata": {
        "colab": {
          "base_uri": "https://localhost:8080/"
        },
        "id": "Qj8uE9MT_Fm-",
        "outputId": "ebd756ee-005f-49d8-fb37-731f3b0bc6aa"
      },
      "execution_count": 35,
      "outputs": [
        {
          "output_type": "stream",
          "name": "stdout",
          "text": [
            "0\n",
            "1\n",
            "1\n",
            "4\n",
            "7\n",
            "7\n",
            "CPU times: user 340 µs, sys: 0 ns, total: 340 µs\n",
            "Wall time: 242 µs\n"
          ]
        }
      ]
    },
    {
      "cell_type": "code",
      "source": [
        "import numpy as np\n",
        "np.log2(1023)"
      ],
      "metadata": {
        "colab": {
          "base_uri": "https://localhost:8080/"
        },
        "id": "e5HHNUQ5_Jvn",
        "outputId": "a1699b4d-192a-4f8d-fd23-616199922e26"
      },
      "execution_count": 38,
      "outputs": [
        {
          "output_type": "execute_result",
          "data": {
            "text/plain": [
              "9.99859042974533"
            ]
          },
          "metadata": {},
          "execution_count": 38
        }
      ]
    },
    {
      "cell_type": "code",
      "source": [
        "1+127//2"
      ],
      "metadata": {
        "colab": {
          "base_uri": "https://localhost:8080/"
        },
        "id": "tK7M6DDcGfgJ",
        "outputId": "04360f7a-b152-4f2c-9da5-f96584f04014"
      },
      "execution_count": 39,
      "outputs": [
        {
          "output_type": "execute_result",
          "data": {
            "text/plain": [
              "64"
            ]
          },
          "metadata": {},
          "execution_count": 39
        }
      ]
    },
    {
      "cell_type": "code",
      "source": [
        "1+62/2"
      ],
      "metadata": {
        "colab": {
          "base_uri": "https://localhost:8080/"
        },
        "id": "YU03rRnrJdJp",
        "outputId": "d68576e1-3bc8-424d-df74-cc3235f0a360"
      },
      "execution_count": 40,
      "outputs": [
        {
          "output_type": "execute_result",
          "data": {
            "text/plain": [
              "32.0"
            ]
          },
          "metadata": {},
          "execution_count": 40
        }
      ]
    },
    {
      "cell_type": "code",
      "source": [],
      "metadata": {
        "id": "xouon6U1JtA7"
      },
      "execution_count": null,
      "outputs": []
    }
  ]
}