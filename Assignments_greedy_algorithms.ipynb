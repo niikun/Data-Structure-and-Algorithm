{
  "nbformat": 4,
  "nbformat_minor": 0,
  "metadata": {
    "colab": {
      "provenance": [],
      "authorship_tag": "ABX9TyNOxuHSiUJyL0F2jzxQ6CsC",
      "include_colab_link": true
    },
    "kernelspec": {
      "name": "python3",
      "display_name": "Python 3"
    },
    "language_info": {
      "name": "python"
    }
  },
  "cells": [
    {
      "cell_type": "markdown",
      "metadata": {
        "id": "view-in-github",
        "colab_type": "text"
      },
      "source": [
        "<a href=\"https://colab.research.google.com/github/niikun/Data-Structure-and-Algorithm/blob/main/Assignments_greedy_algorithms.ipynb\" target=\"_parent\"><img src=\"https://colab.research.google.com/assets/colab-badge.svg\" alt=\"Open In Colab\"/></a>"
      ]
    },
    {
      "cell_type": "markdown",
      "source": [
        "# Q1 money_change\n",
        "\n"
      ],
      "metadata": {
        "id": "QLJmVmwPrkbQ"
      }
    },
    {
      "cell_type": "code",
      "execution_count": 1,
      "metadata": {
        "id": "qcHGlbHKkZi4"
      },
      "outputs": [],
      "source": [
        "def change(money):\n",
        "    # write your code here\n",
        "    coins = [10,5,1]\n",
        "    num = 0\n",
        "    for coin in coins:\n",
        "        _num = money//coin\n",
        "        money = money % coin\n",
        "        num += _num\n",
        "\n",
        "    return num"
      ]
    },
    {
      "cell_type": "code",
      "source": [
        "change(2)"
      ],
      "metadata": {
        "colab": {
          "base_uri": "https://localhost:8080/"
        },
        "id": "F-W_8w4joxge",
        "outputId": "de400c8d-300b-4012-f4ee-a1c1b0e1737c"
      },
      "execution_count": 2,
      "outputs": [
        {
          "output_type": "execute_result",
          "data": {
            "text/plain": [
              "2"
            ]
          },
          "metadata": {},
          "execution_count": 2
        }
      ]
    },
    {
      "cell_type": "code",
      "source": [
        "change(28)"
      ],
      "metadata": {
        "colab": {
          "base_uri": "https://localhost:8080/"
        },
        "id": "n6FQcyLKo0qz",
        "outputId": "889424e3-bf17-4161-fa98-970a55198e14"
      },
      "execution_count": 3,
      "outputs": [
        {
          "output_type": "execute_result",
          "data": {
            "text/plain": [
              "6"
            ]
          },
          "metadata": {},
          "execution_count": 3
        }
      ]
    },
    {
      "cell_type": "markdown",
      "source": [
        "# knapsack\n"
      ],
      "metadata": {
        "id": "2rx6GyvmrtFN"
      }
    },
    {
      "cell_type": "code",
      "source": [
        "# from sys import stdin\n",
        "# data = list(map(int, stdin.read().split()))\n",
        "# n, capacity = data[0:2]\n",
        "# values = data[2:(2 * n + 2):2]\n",
        "# weights = data[3:(2 * n + 2):2]"
      ],
      "metadata": {
        "colab": {
          "base_uri": "https://localhost:8080/",
          "height": 222
        },
        "id": "IwB0Iq4jr2uS",
        "outputId": "49a6c8a4-adfd-4ca8-a251-9dac3665132d"
      },
      "execution_count": 4,
      "outputs": [
        {
          "output_type": "error",
          "ename": "ValueError",
          "evalue": "not enough values to unpack (expected 2, got 0)",
          "traceback": [
            "\u001b[0;31m---------------------------------------------------------------------------\u001b[0m",
            "\u001b[0;31mValueError\u001b[0m                                Traceback (most recent call last)",
            "\u001b[0;32m<ipython-input-4-29453cfb78c6>\u001b[0m in \u001b[0;36m<cell line: 3>\u001b[0;34m()\u001b[0m\n\u001b[1;32m      1\u001b[0m \u001b[0;32mfrom\u001b[0m \u001b[0msys\u001b[0m \u001b[0;32mimport\u001b[0m \u001b[0mstdin\u001b[0m\u001b[0;34m\u001b[0m\u001b[0;34m\u001b[0m\u001b[0m\n\u001b[1;32m      2\u001b[0m \u001b[0mdata\u001b[0m \u001b[0;34m=\u001b[0m \u001b[0mlist\u001b[0m\u001b[0;34m(\u001b[0m\u001b[0mmap\u001b[0m\u001b[0;34m(\u001b[0m\u001b[0mint\u001b[0m\u001b[0;34m,\u001b[0m \u001b[0mstdin\u001b[0m\u001b[0;34m.\u001b[0m\u001b[0mread\u001b[0m\u001b[0;34m(\u001b[0m\u001b[0;34m)\u001b[0m\u001b[0;34m.\u001b[0m\u001b[0msplit\u001b[0m\u001b[0;34m(\u001b[0m\u001b[0;34m)\u001b[0m\u001b[0;34m)\u001b[0m\u001b[0;34m)\u001b[0m\u001b[0;34m\u001b[0m\u001b[0;34m\u001b[0m\u001b[0m\n\u001b[0;32m----> 3\u001b[0;31m \u001b[0mn\u001b[0m\u001b[0;34m,\u001b[0m \u001b[0mcapacity\u001b[0m \u001b[0;34m=\u001b[0m \u001b[0mdata\u001b[0m\u001b[0;34m[\u001b[0m\u001b[0;36m0\u001b[0m\u001b[0;34m:\u001b[0m\u001b[0;36m2\u001b[0m\u001b[0;34m]\u001b[0m\u001b[0;34m\u001b[0m\u001b[0;34m\u001b[0m\u001b[0m\n\u001b[0m\u001b[1;32m      4\u001b[0m \u001b[0mvalues\u001b[0m \u001b[0;34m=\u001b[0m \u001b[0mdata\u001b[0m\u001b[0;34m[\u001b[0m\u001b[0;36m2\u001b[0m\u001b[0;34m:\u001b[0m\u001b[0;34m(\u001b[0m\u001b[0;36m2\u001b[0m \u001b[0;34m*\u001b[0m \u001b[0mn\u001b[0m \u001b[0;34m+\u001b[0m \u001b[0;36m2\u001b[0m\u001b[0;34m)\u001b[0m\u001b[0;34m:\u001b[0m\u001b[0;36m2\u001b[0m\u001b[0;34m]\u001b[0m\u001b[0;34m\u001b[0m\u001b[0;34m\u001b[0m\u001b[0m\n\u001b[1;32m      5\u001b[0m \u001b[0mweights\u001b[0m \u001b[0;34m=\u001b[0m \u001b[0mdata\u001b[0m\u001b[0;34m[\u001b[0m\u001b[0;36m3\u001b[0m\u001b[0;34m:\u001b[0m\u001b[0;34m(\u001b[0m\u001b[0;36m2\u001b[0m \u001b[0;34m*\u001b[0m \u001b[0mn\u001b[0m \u001b[0;34m+\u001b[0m \u001b[0;36m2\u001b[0m\u001b[0;34m)\u001b[0m\u001b[0;34m:\u001b[0m\u001b[0;36m2\u001b[0m\u001b[0;34m]\u001b[0m\u001b[0;34m\u001b[0m\u001b[0;34m\u001b[0m\u001b[0m\n",
            "\u001b[0;31mValueError\u001b[0m: not enough values to unpack (expected 2, got 0)"
          ]
        }
      ]
    },
    {
      "cell_type": "code",
      "source": [
        "data[0:2]"
      ],
      "metadata": {
        "colab": {
          "base_uri": "https://localhost:8080/"
        },
        "id": "RVs0XBU4sDgS",
        "outputId": "2e187fa2-4d26-4aa4-910a-b613224bfad1"
      },
      "execution_count": 5,
      "outputs": [
        {
          "output_type": "execute_result",
          "data": {
            "text/plain": [
              "[]"
            ]
          },
          "metadata": {},
          "execution_count": 5
        }
      ]
    },
    {
      "cell_type": "code",
      "source": [
        "from sys import stdin\n",
        "\n",
        "\n",
        "def optimal_value(capacity, weights, values):\n",
        "    value = 0.\n",
        "    # write your code here\n",
        "    values_per_weights = [v/w for v,w in zip(values, weights)]\n",
        "    combined = list(zip(weights,values_per_weights))\n",
        "    combined.sort(key=lambda x: x[1],reverse=True)\n",
        "    weights,values_per_weights = zip(*combined)\n",
        "    for w,vpw in zip(weights,values_per_weights):\n",
        "        if capacity-w >= 0:\n",
        "            capacity -= w\n",
        "            value += vpw*w\n",
        "            print(w,value)\n",
        "        else:\n",
        "            w = capacity\n",
        "            value += vpw*w\n",
        "            print(w,value)\n",
        "            break\n",
        "    return value\n"
      ],
      "metadata": {
        "id": "_orGGpAeo4Cd"
      },
      "execution_count": 8,
      "outputs": []
    },
    {
      "cell_type": "code",
      "source": [
        "# if __name__ == \"__main__\":\n",
        "#     data = list(map(int, stdin.read().split()))\n",
        "#     n, capacity = data[0:2]\n",
        "#     values = data[2:(2 * n + 2):2]\n",
        "#     weights = data[3:(2 * n + 2):2]"
      ],
      "metadata": {
        "id": "tzZDdBHOtAXp"
      },
      "execution_count": 10,
      "outputs": []
    },
    {
      "cell_type": "code",
      "source": [
        "capacity= 10\n",
        "values = [20, 30, 40, 50]\n",
        "weights = [5, 4, 6, 3]"
      ],
      "metadata": {
        "id": "ddHi0wLytJq9"
      },
      "execution_count": 11,
      "outputs": []
    },
    {
      "cell_type": "code",
      "source": [
        "values_per_weights = [v/w for v,w in zip(values, weights)]\n",
        "values_per_weights"
      ],
      "metadata": {
        "colab": {
          "base_uri": "https://localhost:8080/"
        },
        "id": "C5sjM-Yl0lfl",
        "outputId": "4250fce3-aa13-4c0b-f7d8-aee300244502"
      },
      "execution_count": 12,
      "outputs": [
        {
          "output_type": "execute_result",
          "data": {
            "text/plain": [
              "[4.0, 7.5, 6.666666666666667, 16.666666666666668]"
            ]
          },
          "metadata": {},
          "execution_count": 12
        }
      ]
    },
    {
      "cell_type": "code",
      "source": [
        "values_per_weights = [v/w for v,w in zip(values, weights)]\n",
        "combined = list(zip(weights,values_per_weights))\n",
        "combined.sort(key=lambda x: x[1],reverse=True)\n",
        "weights,values_per_weights = zip(*combined)\n",
        "value_sum = 0\n",
        "for w,vpw in zip(weights,values_per_weights):\n",
        "    if capacity-w >= 0:\n",
        "        capacity -= w\n",
        "        value_sum += vpw*w\n",
        "        print(w,value_sum)\n",
        "    else:\n",
        "        w = capacity\n",
        "        value_sum += vpw*w\n",
        "        print(w,value_sum)\n",
        "        break\n",
        "\n"
      ],
      "metadata": {
        "colab": {
          "base_uri": "https://localhost:8080/"
        },
        "id": "_PACspaBtSb3",
        "outputId": "57a2ac79-8315-462f-b57b-4a01bd41b865"
      },
      "execution_count": 13,
      "outputs": [
        {
          "output_type": "stream",
          "name": "stdout",
          "text": [
            "3 50.0\n",
            "4 80.0\n",
            "3 100.0\n"
          ]
        }
      ]
    },
    {
      "cell_type": "code",
      "source": [
        "optimal_value(capacity,weights,values)"
      ],
      "metadata": {
        "colab": {
          "base_uri": "https://localhost:8080/"
        },
        "id": "YGoK88VEtbw9",
        "outputId": "1b57cf27-2677-467a-b6ff-9ff2f2054756"
      },
      "execution_count": 14,
      "outputs": [
        {
          "output_type": "stream",
          "name": "stdout",
          "text": [
            "3 30.0\n"
          ]
        },
        {
          "output_type": "execute_result",
          "data": {
            "text/plain": [
              "30.0"
            ]
          },
          "metadata": {},
          "execution_count": 14
        }
      ]
    },
    {
      "cell_type": "markdown",
      "source": [
        "# Car Fueling\n",
        "ある都市から別の都市へ移動するのに必要なガソリンの最小補給量を計算する。  \n",
        "**Input**  \n",
        " 整数$d$と$m$，整数の並び stop1 < stop2 < --- < stopn.\n",
        "**Output**  \n",
        "ある都市から別の都市へ移動するための最小補給回数  \n",
        "\n",
        "自動車が満タンで最大$m$マイル走行できる場合の，ある都市から別の都市までの最小給油回数．  \n",
        "都市間の距離はdマイルであり，stop1,stop2,...,stopnにガソリンスタンドがある．ここで\n",
        " 満タンで出発すると仮定する．"
      ],
      "metadata": {
        "id": "7isaE2Q0U4Z8"
      }
    },
    {
      "cell_type": "code",
      "source": [
        "# Q1\n",
        "# Thedistancebetweenthecitiesis950,\n",
        "d = 950\n",
        "# thecarcantravelatmost400 miles on a fulltank\n",
        "m = 400\n",
        "n = 4\n",
        "stops = [200, 375, 550, 750]\n"
      ],
      "metadata": {
        "id": "jj5zBlmpy4Jr"
      },
      "execution_count": 36,
      "outputs": []
    },
    {
      "cell_type": "code",
      "source": [
        "def min_refills(distance,tank,stops):\n",
        "    refills = 0\n",
        "    temp_m = m\n",
        "\n",
        "    for i in range(len(stops)):\n",
        "\n",
        "        if i == 0:\n",
        "            temp_m -= stops[i]\n",
        "            # print(temp_m)\n",
        "\n",
        "            if temp_m < stops[i+1]-stops[i]:\n",
        "                refills += 1\n",
        "                temp_m = m\n",
        "                # print(\"refile\")\n",
        "                if temp_m < stops[i+1]-stops[i]:\n",
        "                    refills = -1\n",
        "                    break\n",
        "\n",
        "        elif i < len(stops)-1:\n",
        "            temp_m = temp_m - stops[i]+stops[i-1]\n",
        "            # print(temp_m)\n",
        "\n",
        "            if temp_m < stops[i+1]-stops[i]:\n",
        "                refills += 1\n",
        "                temp_m = m\n",
        "                # print(\"refile\")\n",
        "                if temp_m < stops[i+1]-stops[i]:\n",
        "                    refills = -1\n",
        "                    break\n",
        "\n",
        "        else:\n",
        "            temp_m = temp_m - stops[i]+stops[i-1]\n",
        "            # print(temp_m)\n",
        "\n",
        "            if temp_m < d-stops[i]:\n",
        "                refills += 1\n",
        "                temp_m = m\n",
        "                # print(\"refile\")\n",
        "                if temp_m < d-stops[i]:\n",
        "                    refills = -1\n",
        "                    break\n",
        "    return refills\n"
      ],
      "metadata": {
        "id": "euNHONarZQFJ"
      },
      "execution_count": 38,
      "outputs": []
    },
    {
      "cell_type": "code",
      "source": [
        "min_refills(d,m,stops)"
      ],
      "metadata": {
        "colab": {
          "base_uri": "https://localhost:8080/"
        },
        "id": "dEcQOTcmf7Mw",
        "outputId": "ab809dac-f1d1-4d05-ca6b-4bb79c47471f"
      },
      "execution_count": 39,
      "outputs": [
        {
          "output_type": "execute_result",
          "data": {
            "text/plain": [
              "2"
            ]
          },
          "metadata": {},
          "execution_count": 39
        }
      ]
    },
    {
      "cell_type": "markdown",
      "source": [
        "距離375と750の2回の充填が可能。"
      ],
      "metadata": {
        "id": "MyxamPQXY4cr"
      }
    },
    {
      "cell_type": "code",
      "source": [
        "refills = 0\n",
        "temp_m = m\n",
        "\n",
        "for i in range(len(stops)):\n",
        "\n",
        "    if i == 0:\n",
        "        temp_m -= stops[i]\n",
        "        print(temp_m)\n",
        "\n",
        "        if temp_m < stops[i+1]-stops[i]:\n",
        "            refills += 1\n",
        "            temp_m = m\n",
        "            print(\"refile\")\n",
        "            if temp_m < stops[i+1]-stops[i]:\n",
        "                refills = -1\n",
        "                break\n",
        "\n",
        "    elif i < len(stops)-1:\n",
        "        temp_m = temp_m - stops[i]+stops[i-1]\n",
        "        print(temp_m)\n",
        "\n",
        "        if temp_m < stops[i+1]-stops[i]:\n",
        "            refills += 1\n",
        "            temp_m = m\n",
        "            print(\"refile\")\n",
        "            if temp_m < stops[i+1]-stops[i]:\n",
        "                refills = -1\n",
        "                break\n",
        "\n",
        "    else:\n",
        "        temp_m = temp_m - stops[i]+stops[i-1]\n",
        "        print(temp_m)\n",
        "\n",
        "        if temp_m < d-stops[i]:\n",
        "            refills += 1\n",
        "            temp_m = m\n",
        "            print(\"refile\")\n",
        "            if temp_m < d-stops[i]:\n",
        "                refills = -1\n",
        "                break\n",
        "    print(refills)\n"
      ],
      "metadata": {
        "colab": {
          "base_uri": "https://localhost:8080/"
        },
        "id": "tWXIrcvqZPG5",
        "outputId": "b9a8894c-a69e-4308-da2a-5186dd3b9002"
      },
      "execution_count": 33,
      "outputs": [
        {
          "output_type": "stream",
          "name": "stdout",
          "text": [
            "200\n",
            "0\n",
            "25\n",
            "refile\n",
            "1\n",
            "225\n",
            "1\n",
            "25\n",
            "refile\n",
            "2\n"
          ]
        }
      ]
    },
    {
      "cell_type": "code",
      "source": [
        "# Q2\n",
        "# Thedistancebetweenthecitiesis950,\n",
        "d = 10\n",
        "# thecarcantravelatmost400 miles on a fulltank\n",
        "m = 3\n",
        "n = 4\n",
        "stops = [1,2,5,9]"
      ],
      "metadata": {
        "id": "hM7vStzFbDvE"
      },
      "execution_count": 40,
      "outputs": []
    },
    {
      "cell_type": "code",
      "source": [
        "min_refills(d,m,stops)"
      ],
      "metadata": {
        "colab": {
          "base_uri": "https://localhost:8080/"
        },
        "id": "D9AYURvngUbO",
        "outputId": "abe3b354-e7f0-45ab-f675-3580b58cd2c3"
      },
      "execution_count": 41,
      "outputs": [
        {
          "output_type": "execute_result",
          "data": {
            "text/plain": [
              "-1"
            ]
          },
          "metadata": {},
          "execution_count": 41
        }
      ]
    },
    {
      "cell_type": "code",
      "source": [
        "d = 200\n",
        "m = 250\n",
        "n = 2\n",
        "stops = [100,150]"
      ],
      "metadata": {
        "id": "RrJ0oMUVgXI_"
      },
      "execution_count": 42,
      "outputs": []
    },
    {
      "cell_type": "code",
      "source": [
        "min_refills(d,m,stops)"
      ],
      "metadata": {
        "colab": {
          "base_uri": "https://localhost:8080/"
        },
        "id": "fFsdEsmvgjUs",
        "outputId": "ea999aa3-614a-42d8-d9a1-9caf3a6b2919"
      },
      "execution_count": 43,
      "outputs": [
        {
          "output_type": "execute_result",
          "data": {
            "text/plain": [
              "0"
            ]
          },
          "metadata": {},
          "execution_count": 43
        }
      ]
    },
    {
      "cell_type": "markdown",
      "source": [
        "## Q4 MaximumAdvertisement Revenue\n",
        "- Input: Two sequences of n positive integers:   \n",
        "price1,...,pricen  \n",
        "clicks1,...,clicksn.\n",
        "- Output: The maximum value of  \n",
        " price1 · c1 + ··· + pricen · cn,\n",
        " where c1,...,cn is a permutation\n",
        " of clicks1,...,clicksn\n"
      ],
      "metadata": {
        "id": "M4B-mcTAhSdn"
      }
    },
    {
      "cell_type": "markdown",
      "source": [
        "You have n=3advertisement slots on your popular Internet page and\n",
        " you want to sell them to advertisers.   They expect, respectively, clicks1 = 10,\n",
        " clicks2 = 20, and clicks3 = 30 clicks per day.   \n",
        " You found three advertisers willing to pay price1 = $2, price2 = $3, and price3 = $5 per click.   \n",
        " How would you pair the slots and advertisers to maximize the revenue?   \n",
        " For example, the highlighted pairing shown above gives a revenue of 10·5+20·2+30·3 =180 dollars, while the black one results in revenue of\n",
        " 10·3+20·5+30·2=190 dollars"
      ],
      "metadata": {
        "id": "kmQFhdr8iWDP"
      }
    },
    {
      "cell_type": "code",
      "source": [],
      "metadata": {
        "id": "VGCi8RXmglIY"
      },
      "execution_count": null,
      "outputs": []
    }
  ]
}