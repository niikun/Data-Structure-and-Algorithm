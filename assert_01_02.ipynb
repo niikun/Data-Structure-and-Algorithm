{
  "nbformat": 4,
  "nbformat_minor": 0,
  "metadata": {
    "colab": {
      "provenance": [],
      "authorship_tag": "ABX9TyPGGf0iODgiK1u6tpTyVH5x",
      "include_colab_link": true
    },
    "kernelspec": {
      "name": "python3",
      "display_name": "Python 3"
    },
    "language_info": {
      "name": "python"
    }
  },
  "cells": [
    {
      "cell_type": "markdown",
      "metadata": {
        "id": "view-in-github",
        "colab_type": "text"
      },
      "source": [
        "<a href=\"https://colab.research.google.com/github/niikun/Data-Structure-and-Algorithm/blob/main/assert_01_02.ipynb\" target=\"_parent\"><img src=\"https://colab.research.google.com/assets/colab-badge.svg\" alt=\"Open In Colab\"/></a>"
      ]
    },
    {
      "cell_type": "markdown",
      "source": [
        "## Q1 fibonacci数列の計算"
      ],
      "metadata": {
        "id": "EgF5GXz37V4A"
      }
    },
    {
      "cell_type": "code",
      "execution_count": null,
      "metadata": {
        "id": "RLsTJ84t1zfJ"
      },
      "outputs": [],
      "source": [
        "def fibonacci_number(n):\n",
        "    if n <= 0:\n",
        "        return 0\n",
        "    elif n == 1:\n",
        "        return 1\n",
        "\n",
        "    fib_list = [0, 1]\n",
        "    for i in range(2, n + 1):\n",
        "        fib_list.append(fib_list[i - 1] + fib_list[i - 2])\n",
        "\n",
        "    print(fib_list)\n",
        "    return fib_list[n]"
      ]
    },
    {
      "cell_type": "code",
      "source": [
        "%%time\n",
        "fibonacci(10)"
      ],
      "metadata": {
        "colab": {
          "base_uri": "https://localhost:8080/"
        },
        "id": "V1FdcxG22kPC",
        "outputId": "c60b3128-b5ff-4421-8fc7-ff8816fa8f60"
      },
      "execution_count": null,
      "outputs": [
        {
          "output_type": "stream",
          "name": "stdout",
          "text": [
            "[0, 1, 1, 2, 3, 5, 8, 13, 21, 34, 55]\n",
            "CPU times: user 875 µs, sys: 0 ns, total: 875 µs\n",
            "Wall time: 881 µs\n"
          ]
        },
        {
          "output_type": "execute_result",
          "data": {
            "text/plain": [
              "34"
            ]
          },
          "metadata": {},
          "execution_count": 35
        }
      ]
    },
    {
      "cell_type": "code",
      "source": [],
      "metadata": {
        "id": "clfQc43p2mWJ"
      },
      "execution_count": null,
      "outputs": []
    },
    {
      "cell_type": "code",
      "source": [
        "%%time\n",
        "fibonacci2(10)"
      ],
      "metadata": {
        "colab": {
          "base_uri": "https://localhost:8080/"
        },
        "id": "rW1SOjyY5ODq",
        "outputId": "0818b07f-eaf6-4e54-ccbd-74d732552bb3"
      },
      "execution_count": null,
      "outputs": [
        {
          "output_type": "stream",
          "name": "stdout",
          "text": [
            "CPU times: user 11 µs, sys: 0 ns, total: 11 µs\n",
            "Wall time: 13.6 µs\n"
          ]
        },
        {
          "output_type": "execute_result",
          "data": {
            "text/plain": [
              "34"
            ]
          },
          "metadata": {},
          "execution_count": 33
        }
      ]
    },
    {
      "cell_type": "markdown",
      "source": [
        "## Q2 fibonacci行列の下一桁の計算"
      ],
      "metadata": {
        "id": "kvXABlaa8bJC"
      }
    },
    {
      "cell_type": "code",
      "source": [
        "def fibonacci_last_digit0(n):\n",
        "    if n <= 1:\n",
        "        return n\n",
        "\n",
        "    previous = 0\n",
        "    current  = 1\n",
        "\n",
        "    for _ in range(n - 1):\n",
        "        previous, current = current, previous + current\n",
        "\n",
        "    return current % 10"
      ],
      "metadata": {
        "id": "P8l-z0yH5lL7"
      },
      "execution_count": null,
      "outputs": []
    },
    {
      "cell_type": "code",
      "source": [
        "%%time\n",
        "fibonacci_last_digit0(10)"
      ],
      "metadata": {
        "colab": {
          "base_uri": "https://localhost:8080/"
        },
        "id": "Y1R3TYTT8nce",
        "outputId": "77803878-86c6-4258-c9bb-ba58acd2d2b6"
      },
      "execution_count": null,
      "outputs": [
        {
          "output_type": "stream",
          "name": "stdout",
          "text": [
            "CPU times: user 8 µs, sys: 0 ns, total: 8 µs\n",
            "Wall time: 10.5 µs\n"
          ]
        },
        {
          "output_type": "execute_result",
          "data": {
            "text/plain": [
              "5"
            ]
          },
          "metadata": {},
          "execution_count": 38
        }
      ]
    },
    {
      "cell_type": "markdown",
      "source": [
        "フィボナッチ数列の最後の桁を計算する場合、大きな数の計算を避けるためにすべての計算を10で割った余りだけを使って行うことができます。これにより、計算が高速化され、メモリ使用量も削減されます。"
      ],
      "metadata": {
        "id": "GD_DBkiC_Jh9"
      }
    },
    {
      "cell_type": "code",
      "source": [
        "def fibonacci_last_digit(n):\n",
        "    if n <= 1:\n",
        "        return n\n",
        "\n",
        "    previous = 0\n",
        "    current  = 1\n",
        "\n",
        "    for _ in range(n - 1):\n",
        "        previous, current = current, (previous + current)%10\n",
        "\n",
        "    return current"
      ],
      "metadata": {
        "id": "2198ama785I7"
      },
      "execution_count": null,
      "outputs": []
    },
    {
      "cell_type": "code",
      "source": [
        "%%time\n",
        "fibonacci_last_digit(10)"
      ],
      "metadata": {
        "colab": {
          "base_uri": "https://localhost:8080/"
        },
        "id": "SDs1G9h49p2B",
        "outputId": "b0f0478b-0268-4186-f308-f044419aa4b7"
      },
      "execution_count": null,
      "outputs": [
        {
          "output_type": "stream",
          "name": "stdout",
          "text": [
            "CPU times: user 4 µs, sys: 0 ns, total: 4 µs\n",
            "Wall time: 6.68 µs\n"
          ]
        },
        {
          "output_type": "execute_result",
          "data": {
            "text/plain": [
              "5"
            ]
          },
          "metadata": {},
          "execution_count": 44
        }
      ]
    },
    {
      "cell_type": "markdown",
      "source": [
        "## Q3 最大公約数\n"
      ],
      "metadata": {
        "id": "U_rwoaVw_5-j"
      }
    },
    {
      "cell_type": "code",
      "source": [
        "def gcd0(a, b):\n",
        "    current_gcd = 1\n",
        "    for d in range(2, min(a, b) + 1):\n",
        "        if a % d == 0 and b % d == 0:\n",
        "            if d > current_gcd:\n",
        "                current_gcd = d\n",
        "\n",
        "    return current_gcd"
      ],
      "metadata": {
        "id": "TZzyGNm79sz5"
      },
      "execution_count": null,
      "outputs": []
    },
    {
      "cell_type": "code",
      "source": [
        "%%time\n",
        "gcd0(128,78)"
      ],
      "metadata": {
        "colab": {
          "base_uri": "https://localhost:8080/"
        },
        "id": "kUWXznRJAFNn",
        "outputId": "efa9d498-f7ec-4ff3-ba66-02852b571c46"
      },
      "execution_count": null,
      "outputs": [
        {
          "output_type": "stream",
          "name": "stdout",
          "text": [
            "CPU times: user 9 µs, sys: 1e+03 ns, total: 10 µs\n",
            "Wall time: 13.4 µs\n"
          ]
        },
        {
          "output_type": "execute_result",
          "data": {
            "text/plain": [
              "2"
            ]
          },
          "metadata": {},
          "execution_count": 53
        }
      ]
    },
    {
      "cell_type": "markdown",
      "source": [
        "ユークリッドの互除法の原理\n",
        "ユークリッドの互除法は次の定理に基づいています：\n",
        "\n",
        "「2つの整数\n",
        "𝑎と𝑏 の最大公約数は、\n",
        "𝑎を𝑏で割った余り\n",
        "𝑟と𝑏の最大公約数に等しい」\n",
        "\n",
        "これを数式で表すと、\n",
        "GCD(𝑎,𝑏)=GCD(𝑏,𝑎%𝑏)\n",
        "\n",
        "となります。\n",
        "\n",
        "- 計算の手順\n",
        "    - 初期状態：\n",
        "2つの整数 𝑎と𝑏が与えられるとします（ここでは 𝑎>𝑏とします）。\n",
        "\n",
        "    - 余りの計算：𝑎を𝑏で割った余り 𝑟を計算します。すなわち、𝑟=𝑎%𝑏。\n",
        "    - 繰り返し：𝑎を𝑏、𝑏を𝑟 に置き換え、再度余りを計算します。この操作を余りがゼロになるまで繰り返します。\n",
        "\n",
        "    - 終了条件：余りがゼロになった時点での 𝑏 の値が、元の 𝑎と 𝑏の最大公約数です。\n",
        "\n",
        "なぜこの方法が正しいのか？\n",
        "次のような理由から、この方法が正しいことが証明されます：\n",
        "\n",
        "- 互除法の基本定理：\n",
        "上記のように、最大公約数の定義により、GCD(𝑎,𝑏)=GCD(𝑏,𝑎%𝑏)であることが証明できます。これを繰り返すと、各ステップで問題が小さくなり、最終的に解が得られます。\n",
        "\n",
        "- 終了することの保証：\n",
        "各ステップで余り 𝑟は前の余りよりも小さくなります。余りは非負整数なので、有限回のステップで必ずゼロになります。\n",
        "\n",
        "実例：\n",
        "具体的な数字を使って説明すると、次のようになります。\n",
        "\n",
        "例：\n",
        "𝑎=48、𝑏=18\n",
        "48%18=12なので、次のステップでは\n",
        "𝑎=18、𝑏=12となります。  \n",
        "18%12=6なので、次のステップでは\n",
        "𝑎=12、𝑏=6となります。  \n",
        "\n",
        "12%6=0なので、終了条件に達し、GCDは6です。  \n",
        "このように、ユークリッドの互除法を用いることで、効率的に最大公約数を求めることができます。"
      ],
      "metadata": {
        "id": "ur64MmKNBGCg"
      }
    },
    {
      "cell_type": "code",
      "source": [
        "def gcd(a, b):\n",
        "    while b:\n",
        "        a, b = b, a % b\n",
        "\n",
        "    return a"
      ],
      "metadata": {
        "id": "ycmbCtWIAMlW"
      },
      "execution_count": null,
      "outputs": []
    },
    {
      "cell_type": "code",
      "source": [
        "%%time\n",
        "gcd(128,78)"
      ],
      "metadata": {
        "colab": {
          "base_uri": "https://localhost:8080/"
        },
        "id": "CFNTzUguAi2O",
        "outputId": "899e07f5-ddf6-4041-bf9b-fc27ba4e4402"
      },
      "execution_count": null,
      "outputs": [
        {
          "output_type": "stream",
          "name": "stdout",
          "text": [
            "CPU times: user 4 µs, sys: 0 ns, total: 4 µs\n",
            "Wall time: 7.63 µs\n"
          ]
        },
        {
          "output_type": "execute_result",
          "data": {
            "text/plain": [
              "2"
            ]
          },
          "metadata": {},
          "execution_count": 52
        }
      ]
    },
    {
      "cell_type": "markdown",
      "source": [
        "## Q4 最小公倍数"
      ],
      "metadata": {
        "id": "u9Mk2amkBaZD"
      }
    },
    {
      "cell_type": "code",
      "source": [
        "def lcm0(a, b):\n",
        "    for l in range(1, a * b + 1):\n",
        "        if l % a == 0 and l % b == 0:\n",
        "            return l\n",
        "\n",
        "    assert False"
      ],
      "metadata": {
        "id": "3G7rGfAhAouA"
      },
      "execution_count": null,
      "outputs": []
    },
    {
      "cell_type": "code",
      "source": [
        "%%time\n",
        "lcm0(128,78)"
      ],
      "metadata": {
        "colab": {
          "base_uri": "https://localhost:8080/"
        },
        "id": "b4uYwAF_CZ1V",
        "outputId": "74b701b7-7de5-4565-b42d-d104afe0b0d8"
      },
      "execution_count": null,
      "outputs": [
        {
          "output_type": "stream",
          "name": "stdout",
          "text": [
            "CPU times: user 457 µs, sys: 0 ns, total: 457 µs\n",
            "Wall time: 467 µs\n"
          ]
        },
        {
          "output_type": "execute_result",
          "data": {
            "text/plain": [
              "4992"
            ]
          },
          "metadata": {},
          "execution_count": 56
        }
      ]
    },
    {
      "cell_type": "code",
      "source": [
        "def gcd(a,b):\n",
        "    while b:\n",
        "        a,b = b,a%b\n",
        "    return a\n",
        "\n",
        "def lcm1(a, b):\n",
        "    remain_a = a/gcd(a,b)\n",
        "    remain_b = b/gcd(a,b)\n",
        "    return remain_a*remain_b*gcd(a,b)"
      ],
      "metadata": {
        "id": "1LnszZiVCh37"
      },
      "execution_count": null,
      "outputs": []
    },
    {
      "cell_type": "code",
      "source": [
        "%%time\n",
        "lcm1(128,78)"
      ],
      "metadata": {
        "colab": {
          "base_uri": "https://localhost:8080/"
        },
        "id": "reOhrh9CEFQ7",
        "outputId": "20d54261-e786-45bd-acb9-6bc00e1a3cb4"
      },
      "execution_count": null,
      "outputs": [
        {
          "output_type": "stream",
          "name": "stdout",
          "text": [
            "CPU times: user 8 µs, sys: 1e+03 ns, total: 9 µs\n",
            "Wall time: 11 µs\n"
          ]
        },
        {
          "output_type": "execute_result",
          "data": {
            "text/plain": [
              "4992.0"
            ]
          },
          "metadata": {},
          "execution_count": 67
        }
      ]
    },
    {
      "cell_type": "code",
      "source": [
        "def gcd(a, b):\n",
        "    while b:\n",
        "        a, b = b, a % b\n",
        "    return a\n",
        "\n",
        "def lcm(a, b):\n",
        "    return a * b // gcd(a, b)"
      ],
      "metadata": {
        "id": "IdbrtrmDHHcY"
      },
      "execution_count": null,
      "outputs": []
    },
    {
      "cell_type": "code",
      "source": [
        "%%time\n",
        "lcm(128,78)"
      ],
      "metadata": {
        "colab": {
          "base_uri": "https://localhost:8080/"
        },
        "id": "0DX2zM5VHPqC",
        "outputId": "bbc1060e-4ae8-4673-80bb-83a984bada61"
      },
      "execution_count": null,
      "outputs": [
        {
          "output_type": "stream",
          "name": "stdout",
          "text": [
            "CPU times: user 5 µs, sys: 1 µs, total: 6 µs\n",
            "Wall time: 8.11 µs\n"
          ]
        },
        {
          "output_type": "execute_result",
          "data": {
            "text/plain": [
              "4992"
            ]
          },
          "metadata": {},
          "execution_count": 69
        }
      ]
    },
    {
      "cell_type": "markdown",
      "source": [
        "## Q5  fibonacci again"
      ],
      "metadata": {
        "id": "1YgQQThWFXkf"
      }
    },
    {
      "cell_type": "code",
      "source": [
        "def fibonacci_huge_naive0(n, m):\n",
        "    if n <= 1:\n",
        "        return n\n",
        "\n",
        "    previous = 0\n",
        "    current  = 1\n",
        "\n",
        "    for _ in range(n - 1):\n",
        "        previous, current = current, previous + current\n",
        "\n",
        "    return current % m"
      ],
      "metadata": {
        "id": "oZw7TnxNEM1y"
      },
      "execution_count": null,
      "outputs": []
    },
    {
      "cell_type": "code",
      "source": [
        "%%time\n",
        "fibonacci_huge_naive0(1000,5)"
      ],
      "metadata": {
        "colab": {
          "base_uri": "https://localhost:8080/"
        },
        "id": "uFMt7NMYFdT_",
        "outputId": "eab1299b-06af-4427-c81c-82c068247de8"
      },
      "execution_count": null,
      "outputs": [
        {
          "output_type": "stream",
          "name": "stdout",
          "text": [
            "CPU times: user 165 µs, sys: 0 ns, total: 165 µs\n",
            "Wall time: 1.21 ms\n"
          ]
        },
        {
          "output_type": "execute_result",
          "data": {
            "text/plain": [
              "0"
            ]
          },
          "metadata": {},
          "execution_count": 83
        }
      ]
    },
    {
      "cell_type": "code",
      "source": [
        "def fibonacci_huge_naive(n, m):\n",
        "    if n <= 1:\n",
        "        return n\n",
        "\n",
        "    previous = 0\n",
        "    current  = 1\n",
        "\n",
        "    for _ in range(n - 1):\n",
        "        previous, current = current%m, (previous + current)%m\n",
        "\n",
        "\n",
        "    return current"
      ],
      "metadata": {
        "id": "ijyD20qQH5Ud"
      },
      "execution_count": null,
      "outputs": []
    },
    {
      "cell_type": "code",
      "source": [
        "%%time\n",
        "fibonacci_huge_naive(1000,5)"
      ],
      "metadata": {
        "colab": {
          "base_uri": "https://localhost:8080/"
        },
        "id": "If1bDxYgIngS",
        "outputId": "bf27d06f-9924-42de-958e-a3fca7164c4e"
      },
      "execution_count": null,
      "outputs": [
        {
          "output_type": "stream",
          "name": "stdout",
          "text": [
            "CPU times: user 177 µs, sys: 0 ns, total: 177 µs\n",
            "Wall time: 180 µs\n"
          ]
        },
        {
          "output_type": "execute_result",
          "data": {
            "text/plain": [
              "0"
            ]
          },
          "metadata": {},
          "execution_count": 89
        }
      ]
    },
    {
      "cell_type": "code",
      "source": [
        "def fibonacci_huge_naive2(n, m):\n",
        "    if n <= 1:\n",
        "        return n\n",
        "\n",
        "    previous = 0\n",
        "    current  = 1\n",
        "\n",
        "    for _ in range(n - 1):\n",
        "        previous, current = current, (previous + current)%m\n",
        "\n",
        "\n",
        "    return current"
      ],
      "metadata": {
        "id": "RDsRNICPIpTk"
      },
      "execution_count": null,
      "outputs": []
    },
    {
      "cell_type": "code",
      "source": [
        "%%time\n",
        "fibonacci_huge_naive2(1000,5)"
      ],
      "metadata": {
        "colab": {
          "base_uri": "https://localhost:8080/"
        },
        "id": "cw7NNvJCMmd4",
        "outputId": "de79f651-d258-477d-9995-2d86e1bea7af"
      },
      "execution_count": null,
      "outputs": [
        {
          "output_type": "stream",
          "name": "stdout",
          "text": [
            "CPU times: user 117 µs, sys: 12 µs, total: 129 µs\n",
            "Wall time: 132 µs\n"
          ]
        },
        {
          "output_type": "execute_result",
          "data": {
            "text/plain": [
              "0"
            ]
          },
          "metadata": {},
          "execution_count": 92
        }
      ]
    },
    {
      "cell_type": "markdown",
      "source": [
        "大きなフィボナッチ数を扱う場合には、特に周期的なパターンを活用することでさらに効率化できます。フィボナッチ数をモジュロ（%）で割った場合、数列には周期性（ピサノ周期）があります。この性質を利用すると、非常に大きなnに対しても計算を効率化できます。\n",
        "\n",
        "ピサノ周期を見つけることで、計算量を減らすことができます。以下にその実装を示します：\n",
        "\n",
        "- get_pisano_period(m)関数は、与えられた m に対するピサノ周期を見つけます。\n",
        "- ピサノ周期を使って n を周期の長さでモジュロを取ることで、計算を効率化します。\n",
        "- 新しい n に対してフィボナッチ数を計算し、結果を返します。  \n",
        "この方法により、非常に大きな n に対しても効率的にフィボナッチ数のモジュロ m を計算することができます。"
      ],
      "metadata": {
        "id": "-Fdg4zb5PlK5"
      }
    },
    {
      "cell_type": "markdown",
      "source": [
        "ピサノ周期（Pisano period）とは、フィボナッチ数列をある数\n",
        "$𝑚$で割ったときに、その余りが周期的に繰り返される周期のことです。具体的には、フィボナッチ数列の各項を\n",
        "𝑚で割った余りが、ある時点で再び0, 1に戻り、その後同じパターンを繰り返すという性質があります。この周期の長さをピサノ周期と呼びます。\n",
        "\n",
        "例えば、フィボナッチ数列を3で割った余りを考えると、その数列は次のようになります：  \n",
        "```0, 1, 1, 2, 0, 2, 2, 1, 0, 1, 1, 2, 0, 2, 2, 1,```  \n",
        "この数列は長さ8の周期を持って繰り返されています。したがって、3に対するピサノ周期は8です。\n",
        "\n",
        "ピサノ周期を利用することで、非常に大きなフィボナッチ数を計算する際に計算量を劇的に減らすことができます。これは、フィボナッチ数列の余りが周期的に繰り返されるため、必要な計算を周期の長さ以内に抑えることができるからです。"
      ],
      "metadata": {
        "id": "dyn_6CFFQAgo"
      }
    },
    {
      "cell_type": "code",
      "source": [],
      "metadata": {
        "id": "btVQKnQRP_5H"
      },
      "execution_count": null,
      "outputs": []
    },
    {
      "cell_type": "code",
      "source": [
        "def get_pisano_period(m):\n",
        "    previous, current = 0, 1\n",
        "    for i in range(0, m * m):\n",
        "        previous, current = current, (previous + current) % m\n",
        "        if previous == 0 and current == 1:\n",
        "            return i + 1\n",
        "\n",
        "def fibonacci_huge_naive3(n, m):\n",
        "    if n <= 1:\n",
        "        return n\n",
        "\n",
        "    # Get the pisano period for m\n",
        "    pisano_period = get_pisano_period(m)\n",
        "\n",
        "    # Reduce n modulo the pisano period\n",
        "    n = n % pisano_period\n",
        "\n",
        "    if n <= 1:\n",
        "        return n\n",
        "\n",
        "    previous = 0\n",
        "    current = 1\n",
        "    for _ in range(n - 1):\n",
        "        previous, current = current, (previous + current) % m\n",
        "\n",
        "    return current"
      ],
      "metadata": {
        "id": "7OILajyoPJon"
      },
      "execution_count": null,
      "outputs": []
    },
    {
      "cell_type": "code",
      "source": [
        "%%time\n",
        "fibonacci_huge_naive3(1000,5)"
      ],
      "metadata": {
        "colab": {
          "base_uri": "https://localhost:8080/"
        },
        "id": "Gsp7xMFcPPEM",
        "outputId": "0acba374-ef1a-4d40-d821-eaeb9dabc8fd"
      },
      "execution_count": null,
      "outputs": [
        {
          "output_type": "stream",
          "name": "stdout",
          "text": [
            "CPU times: user 10 µs, sys: 1 µs, total: 11 µs\n",
            "Wall time: 13.8 µs\n"
          ]
        },
        {
          "output_type": "execute_result",
          "data": {
            "text/plain": [
              "0"
            ]
          },
          "metadata": {},
          "execution_count": 96
        }
      ]
    },
    {
      "cell_type": "markdown",
      "source": [
        "## Q6"
      ],
      "metadata": {
        "id": "egszitjT9k5B"
      }
    },
    {
      "cell_type": "code",
      "source": [
        "def fibonacci_sum0(n):\n",
        "    if n <= 1:\n",
        "        return n\n",
        "\n",
        "    previous, current, _sum = 0, 1, 1\n",
        "\n",
        "    for _ in range(n - 1):\n",
        "        previous, current = current, previous + current\n",
        "        _sum += current\n",
        "\n",
        "    return _sum % 10"
      ],
      "metadata": {
        "id": "LpRx3NcjPSZD"
      },
      "execution_count": 1,
      "outputs": []
    },
    {
      "cell_type": "code",
      "source": [
        "%%time\n",
        "fibonacci_sum0(100)"
      ],
      "metadata": {
        "colab": {
          "base_uri": "https://localhost:8080/"
        },
        "id": "fI9_oUJo9uo6",
        "outputId": "e70e4daf-0c0e-4d75-c5f5-7a924b935bfc"
      },
      "execution_count": 19,
      "outputs": [
        {
          "output_type": "stream",
          "name": "stdout",
          "text": [
            "CPU times: user 17 µs, sys: 2 µs, total: 19 µs\n",
            "Wall time: 21 µs\n"
          ]
        },
        {
          "output_type": "execute_result",
          "data": {
            "text/plain": [
              "5"
            ]
          },
          "metadata": {},
          "execution_count": 19
        }
      ]
    },
    {
      "cell_type": "code",
      "source": [
        "def fibonacci_sum(n):\n",
        "    if n <= 1:\n",
        "        return n\n",
        "    prev, current,_sum = 0,1,1\n",
        "    for _ in range(n-1):\n",
        "\n",
        "        prev, current = current, (prev + current)%10\n",
        "        _sum += current\n",
        "\n",
        "\n",
        "    return _sum%10\n"
      ],
      "metadata": {
        "id": "pVuTRq6W90Vk"
      },
      "execution_count": 16,
      "outputs": []
    },
    {
      "cell_type": "markdown",
      "source": [
        "コードのポイントは以下の通りです：\n",
        "\n",
        "フィボナッチ数列の最後の桁を計算する際には、ピサノ周期（Pisano period）を利用することで効率的に計算しています。10でのピサノ周期は60であるため、nを60で割った余りだけを計算対象とします。\n",
        "これにより、非常に大きなnに対しても効率的に計算が可能となります。\n",
        "この最適化により、計算量が大幅に減少し、より高速に結果を得ることができます。"
      ],
      "metadata": {
        "id": "Sq5gpTaWFZSP"
      }
    },
    {
      "cell_type": "code",
      "source": [
        "def fibonacci_sum(n):\n",
        "    if n <= 1:\n",
        "        return n\n",
        "\n",
        "    # Pisano period for modulo 10 is 60\n",
        "    pisano_period = 60\n",
        "\n",
        "    # To find the last digit of the sum of the first n Fibonacci numbers\n",
        "    # we only need to find the sum of the first (n % 60) Fibonacci numbers\n",
        "    n = n % pisano_period\n",
        "\n",
        "    if n <= 1:\n",
        "        return n\n",
        "\n",
        "    prev, current = 0, 1\n",
        "    _sum = 1\n",
        "\n",
        "    for _ in range(n - 1):\n",
        "        prev, current = current, (prev + current) % 10\n",
        "        _sum = (_sum + current) % 10\n",
        "\n",
        "    return _sum"
      ],
      "metadata": {
        "id": "Mzunfi5KAhmr"
      },
      "execution_count": 23,
      "outputs": []
    },
    {
      "cell_type": "code",
      "source": [
        " %%time\n",
        " fibonacci_sum(100)"
      ],
      "metadata": {
        "colab": {
          "base_uri": "https://localhost:8080/"
        },
        "id": "_SA6ScH6AgH_",
        "outputId": "f980f67c-8b6f-48bb-ed44-28d362860b7f"
      },
      "execution_count": 24,
      "outputs": [
        {
          "output_type": "stream",
          "name": "stdout",
          "text": [
            "CPU times: user 11 µs, sys: 2 µs, total: 13 µs\n",
            "Wall time: 15.5 µs\n"
          ]
        },
        {
          "output_type": "execute_result",
          "data": {
            "text/plain": [
              "5"
            ]
          },
          "metadata": {},
          "execution_count": 24
        }
      ]
    },
    {
      "cell_type": "code",
      "source": [],
      "metadata": {
        "id": "IfMf5pLrFGzi"
      },
      "execution_count": null,
      "outputs": []
    }
  ]
}