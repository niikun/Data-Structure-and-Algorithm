{
  "nbformat": 4,
  "nbformat_minor": 0,
  "metadata": {
    "colab": {
      "provenance": [],
      "toc_visible": true,
      "authorship_tag": "ABX9TyP5SAQS9ergXlXy07RWC5iT",
      "include_colab_link": true
    },
    "kernelspec": {
      "name": "python3",
      "display_name": "Python 3"
    },
    "language_info": {
      "name": "python"
    }
  },
  "cells": [
    {
      "cell_type": "markdown",
      "metadata": {
        "id": "view-in-github",
        "colab_type": "text"
      },
      "source": [
        "<a href=\"https://colab.research.google.com/github/niikun/Data-Structure-and-Algorithm/blob/main/dynamic_program%EF%BD%8Ding.ipynb\" target=\"_parent\"><img src=\"https://colab.research.google.com/assets/colab-badge.svg\" alt=\"Open In Colab\"/></a>"
      ]
    },
    {
      "cell_type": "markdown",
      "source": [
        "# Dynamic Programming DP\n",
        "\n",
        "動的計画法（Dynamic Programming, DP）は、複雑な問題を解くためのアルゴリズムの一つで、大きな問題を小さな部分問題に分割し、それらを解いて最終的な解を得る方法です。DPは主に以下の2つの特性を持つ問題に適用されます：\n",
        "\n",
        "1. 部分問題の最適性（Optimal Substructure）：大きな問題の解が、その部分問題の解から構成できる。  \n",
        "2. 重複部分問題（Overlapping Subproblems）：同じ部分問題が何度も現れる。"
      ],
      "metadata": {
        "id": "FKCG7IHxIym8"
      }
    },
    {
      "cell_type": "markdown",
      "source": [
        "## 動的計画法の基本的なステップ\n",
        "1. 問題を部分問題に分割する：解決しようとしている問題を、もっと小さな部分問題に分ける。\n",
        "2. 部分問題を解く：小さな部分問題の解を見つける。\n",
        "3. 部分問題の解を組み合わせる：部分問題の解を使って、元の問題の解を得る。"
      ],
      "metadata": {
        "id": "pSLZejk6IQ1n"
      }
    },
    {
      "cell_type": "markdown",
      "source": [
        "### 例：フィボナッチ数列\n",
        "フィボナッチ数列を求める問題を動的計画法で解く例を見てみましょう。フィボナッチ数列は、次のように定義されます：  \n",
        "- $𝐹(0)=0$  \n",
        "- $𝐹(1)=1$  \n",
        "- $𝐹(𝑛)=𝐹(𝑛−1)+𝐹(𝑛−2)$  \n",
        "\n",
        "この問題は、部分問題の最適性と重複部分問題の両方の特性を持っています。\n",
        "\n",
        "#### 再帰的な解法  \n",
        "まず、再帰的に解く方法を考えてみましょう：  \n",
        "この方法はシンプルですが、部分問題が何度も再計算されるため、非常に非効率です。"
      ],
      "metadata": {
        "id": "wOdpWEebI2I4"
      }
    },
    {
      "cell_type": "code",
      "source": [
        "def fib(n):\n",
        "    if n<=1:\n",
        "        return n\n",
        "    else:\n",
        "        return fib(n-1)+fib(n-2)"
      ],
      "metadata": {
        "id": "IVDp0ervIw2g"
      },
      "execution_count": null,
      "outputs": []
    },
    {
      "cell_type": "code",
      "source": [
        "for i in range(10):\n",
        "    print(f\"n: {i} fib: {fib(i)}\")"
      ],
      "metadata": {
        "colab": {
          "base_uri": "https://localhost:8080/"
        },
        "id": "HK7BfbqlKD5u",
        "outputId": "2c13e223-49df-41c4-c0b1-0b35f7aa0caf"
      },
      "execution_count": null,
      "outputs": [
        {
          "output_type": "stream",
          "name": "stdout",
          "text": [
            "n: 0 fib: 0 \n",
            "n: 1 fib: 1 \n",
            "n: 2 fib: 1 \n",
            "n: 3 fib: 2 \n",
            "n: 4 fib: 3 \n",
            "n: 5 fib: 5 \n",
            "n: 6 fib: 8 \n",
            "n: 7 fib: 13 \n",
            "n: 8 fib: 21 \n",
            "n: 9 fib: 34 \n"
          ]
        }
      ]
    },
    {
      "cell_type": "code",
      "source": [
        "import matplotlib.pyplot as plt\n",
        "%matplotlib inline\n",
        "fib_list = [fib(i) for i in range(20)]\n",
        "plt.bar(x=np.arange(20),height=fib_list)\n",
        "plt.xticks(np.arange(20))\n",
        "for i in range(20):\n",
        "    plt.text(i, fib_list[i], str(fib_list[i]), ha='center', va='bottom',fontsize=8)\n",
        "plt.xlabel('Index')\n",
        "plt.ylabel('Fibonacci Number')\n",
        "plt.title('Fibonacci Numbers')\n",
        "plt.show()"
      ],
      "metadata": {
        "colab": {
          "base_uri": "https://localhost:8080/",
          "height": 472
        },
        "id": "AvkkTH9PKJqq",
        "outputId": "3f14d71d-0994-4db5-9dda-d2316e5f7543"
      },
      "execution_count": null,
      "outputs": [
        {
          "output_type": "display_data",
          "data": {
            "text/plain": [
              "<Figure size 640x480 with 1 Axes>"
            ],
            "image/png": "[encoded data removed]"
          },
          "metadata": {}
        }
      ]
    },
    {
      "cell_type": "markdown",
      "source": [
        "#### 動的計画法による解法\n",
        "動的計画法を用いることで、効率的に解決できます。メモリに既に計算した部分問題の結果を保存し、再利用します。"
      ],
      "metadata": {
        "id": "ySZplIQDNYA8"
      }
    },
    {
      "cell_type": "markdown",
      "source": [
        "##### 動的計画法の利点\n",
        "1. 効率性：部分問題を一度だけ解くため、計算量が大幅に削減される。  \n",
        "2. 再利用性：メモリを使って計算結果を保存するため、同じ部分問題を何度も解く必要がない。"
      ],
      "metadata": {
        "id": "MpltGdGaPTbR"
      }
    },
    {
      "cell_type": "code",
      "source": [
        "def fib_dp(n):\n",
        "    if n <= 1:\n",
        "        return n\n",
        "    dp = [0] * (n+1)\n",
        "    dp[0] = 0\n",
        "    dp[1] = 1\n",
        "    for i in range(2, n+1):\n",
        "        dp[i] = dp[i-1] + dp[i-2]\n",
        "    print(dp)\n",
        "    return dp[n]"
      ],
      "metadata": {
        "id": "mrq_gUhmLm8v"
      },
      "execution_count": null,
      "outputs": []
    },
    {
      "cell_type": "markdown",
      "source": [
        "#### 比較\n",
        "**再帰的手法の場合**"
      ],
      "metadata": {
        "id": "aYYk3uILOjcu"
      }
    },
    {
      "cell_type": "code",
      "source": [
        "%%time\n",
        "fib(20)"
      ],
      "metadata": {
        "colab": {
          "base_uri": "https://localhost:8080/"
        },
        "id": "HTC_Nt98NxzR",
        "outputId": "53d74bda-47c0-4cd1-d663-188eb77f3ccf"
      },
      "execution_count": null,
      "outputs": [
        {
          "output_type": "stream",
          "name": "stdout",
          "text": [
            "CPU times: user 2.8 ms, sys: 0 ns, total: 2.8 ms\n",
            "Wall time: 2.8 ms\n"
          ]
        },
        {
          "output_type": "execute_result",
          "data": {
            "text/plain": [
              "6765"
            ]
          },
          "metadata": {},
          "execution_count": 27
        }
      ]
    },
    {
      "cell_type": "markdown",
      "source": [
        "**動的計画法の場合**"
      ],
      "metadata": {
        "id": "CyLrkaGePHw0"
      }
    },
    {
      "cell_type": "code",
      "source": [
        "%%time\n",
        "fib_dp(20)"
      ],
      "metadata": {
        "colab": {
          "base_uri": "https://localhost:8080/"
        },
        "id": "8AQUjyDMNz3f",
        "outputId": "74420ec1-0d32-48f5-ccba-28459418edb3"
      },
      "execution_count": null,
      "outputs": [
        {
          "output_type": "stream",
          "name": "stdout",
          "text": [
            "[0, 1, 1, 2, 3, 5, 8, 13, 21, 34, 55, 89, 144, 233, 377, 610, 987, 1597, 2584, 4181, 6765]\n",
            "CPU times: user 902 µs, sys: 0 ns, total: 902 µs\n",
            "Wall time: 909 µs\n"
          ]
        },
        {
          "output_type": "execute_result",
          "data": {
            "text/plain": [
              "6765"
            ]
          },
          "metadata": {},
          "execution_count": 30
        }
      ]
    },
    {
      "cell_type": "markdown",
      "source": [
        "### 例：コインの最小枚数問題  \n",
        "コインの最小枚数問題（Minimum Coin Change Problem）は、与えられた金額を最小枚数のコインで支払う方法を求める問題です。例えば、利用できるコインの種類が [1円, 5円, 10円] のとき、金額をちょうど支払うために必要な最小枚数のコインを求めます。\n",
        "\n",
        "#### 問題の定義\n",
        "入力：コインの種類のリスト（例えば [1, 5, 10]）と、支払いたい金額（例えば 16円）。\n",
        "出力：金額をちょうど支払うために必要なコインの最小枚数。"
      ],
      "metadata": {
        "id": "59uv53kpQBty"
      }
    },
    {
      "cell_type": "markdown",
      "source": [
        "coins = [1, 5, 10]の場合は正しい"
      ],
      "metadata": {
        "id": "yfRa08rhRybq"
      }
    },
    {
      "cell_type": "code",
      "source": [
        "coins = [1, 5, 10]\n",
        "amount = 16"
      ],
      "metadata": {
        "id": "2eGa3QxFQbkr"
      },
      "execution_count": null,
      "outputs": []
    },
    {
      "cell_type": "markdown",
      "source": [
        "##### GreedyAlgrithmの場合"
      ],
      "metadata": {
        "id": "cxdqANCoTtoD"
      }
    },
    {
      "cell_type": "code",
      "source": [
        "def coin_change(coins, amount):\n",
        "    change_dict={}\n",
        "    coins.sort(reverse=True)\n",
        "    for coin in coins:\n",
        "        change_dict[coin]= amount//coin\n",
        "        amount = amount % coin\n",
        "    return change_dict"
      ],
      "metadata": {
        "id": "sxpV8-XmO4QO"
      },
      "execution_count": null,
      "outputs": []
    },
    {
      "cell_type": "code",
      "source": [
        "coin_change(coins, amount)"
      ],
      "metadata": {
        "colab": {
          "base_uri": "https://localhost:8080/"
        },
        "id": "DVTHc9JhRKhJ",
        "outputId": "87531386-3561-457d-b972-935148bea541"
      },
      "execution_count": null,
      "outputs": [
        {
          "output_type": "execute_result",
          "data": {
            "text/plain": [
              "{10: 1, 5: 1, 1: 1}"
            ]
          },
          "metadata": {},
          "execution_count": 37
        }
      ]
    },
    {
      "cell_type": "markdown",
      "source": [
        "coins = [1, 3, 4] の場合は間違える  \n",
        "正解は{4: 0, 3: 2, 1: 0}"
      ],
      "metadata": {
        "id": "PM7yzdQ9R_HO"
      }
    },
    {
      "cell_type": "code",
      "source": [
        "coins = [1, 3, 4]\n",
        "amount = 6"
      ],
      "metadata": {
        "id": "8_XbNnetRRZX"
      },
      "execution_count": null,
      "outputs": []
    },
    {
      "cell_type": "code",
      "source": [
        "coin_change(coins, amount)"
      ],
      "metadata": {
        "colab": {
          "base_uri": "https://localhost:8080/"
        },
        "id": "H97j_m8-SJXU",
        "outputId": "0c3119fe-73bd-4ce8-ed79-ef36be447591"
      },
      "execution_count": null,
      "outputs": [
        {
          "output_type": "execute_result",
          "data": {
            "text/plain": [
              "{4: 1, 3: 0, 1: 2}"
            ]
          },
          "metadata": {},
          "execution_count": 40
        }
      ]
    },
    {
      "cell_type": "markdown",
      "source": [
        "#### Dynamic Programmingの場合\n",
        "1. 部分問題の定義: 金額$i$を支払うために必要な最小枚数のコイン数を$dp[i]$とする  \n",
        "2. 初期条件: $dp[0]=0$（０円を支払うためのコインの枚数は０枚）\n",
        "3. 状態遷移: $dp[i]=min(dp[i-c]+1)$ここで$c$は利用できるコインの種類"
      ],
      "metadata": {
        "id": "2JlF2dCrT1aZ"
      }
    },
    {
      "cell_type": "code",
      "source": [
        "def coin_change_dp(coins,amount):\n",
        "    dp = [float(\"inf\")] * (amount + 1)\n",
        "    dp[0] = 0\n",
        "    for i in range(1,amount + 1):\n",
        "        for coin in coins:\n",
        "            if i- coin >=0:\n",
        "                dp[i] = min(dp[i],dp[i-coin]+1)\n",
        "\n",
        "    return dp[amount] if dp[amount] != float(\"inf\") else -1"
      ],
      "metadata": {
        "id": "zL3o2JHXT01v"
      },
      "execution_count": null,
      "outputs": []
    },
    {
      "cell_type": "code",
      "source": [
        "coins = [1, 5, 10]\n",
        "amount = 16"
      ],
      "metadata": {
        "id": "k-5Mm9gVSLXg"
      },
      "execution_count": null,
      "outputs": []
    },
    {
      "cell_type": "code",
      "source": [
        "coin_change_dp(coins, amount)"
      ],
      "metadata": {
        "colab": {
          "base_uri": "https://localhost:8080/"
        },
        "id": "p4uogKsLWjQ-",
        "outputId": "e53440ba-032a-42b9-b9bd-b88bd6c65ca4"
      },
      "execution_count": null,
      "outputs": [
        {
          "output_type": "execute_result",
          "data": {
            "text/plain": [
              "3"
            ]
          },
          "metadata": {},
          "execution_count": 43
        }
      ]
    },
    {
      "cell_type": "code",
      "source": [
        "coins = [1, 3, 4]\n",
        "amount = 6"
      ],
      "metadata": {
        "id": "kM2APekCWtIf"
      },
      "execution_count": null,
      "outputs": []
    },
    {
      "cell_type": "code",
      "source": [
        "coin_change_dp(coins, amount)"
      ],
      "metadata": {
        "colab": {
          "base_uri": "https://localhost:8080/"
        },
        "id": "i0Bg4ecwWkwj",
        "outputId": "c98327d8-3082-4f30-8682-4c4c037d804d"
      },
      "execution_count": null,
      "outputs": [
        {
          "output_type": "execute_result",
          "data": {
            "text/plain": [
              "2"
            ]
          },
          "metadata": {},
          "execution_count": 45
        }
      ]
    },
    {
      "cell_type": "markdown",
      "source": [
        "## Change Money"
      ],
      "metadata": {
        "id": "XHPct7Ck6LJw"
      }
    },
    {
      "cell_type": "markdown",
      "source": [
        "### Greedy approach"
      ],
      "metadata": {
        "id": "jfGADAYe_y2Q"
      }
    },
    {
      "cell_type": "code",
      "source": [
        "coins = [6,5,1]\n",
        "amount = 9"
      ],
      "metadata": {
        "id": "5o3JsGZ4WuVf"
      },
      "execution_count": null,
      "outputs": []
    },
    {
      "cell_type": "code",
      "source": [
        "def change_greedy(coins,amount):\n",
        "    change_dict={}\n",
        "    for coin in coins:\n",
        "        num = amount // coin\n",
        "        amount = amount % coin\n",
        "        change_dict[coin] = num\n",
        "\n",
        "    return change_dict"
      ],
      "metadata": {
        "id": "VxcHOYj666FL"
      },
      "execution_count": null,
      "outputs": []
    },
    {
      "cell_type": "code",
      "source": [
        "%%time\n",
        "change_greedy(coins,amount)"
      ],
      "metadata": {
        "colab": {
          "base_uri": "https://localhost:8080/"
        },
        "id": "4Zm6va3j64ac",
        "outputId": "89232399-976b-4cc7-d77f-48540175f908"
      },
      "execution_count": null,
      "outputs": [
        {
          "output_type": "stream",
          "name": "stdout",
          "text": [
            "CPU times: user 7 µs, sys: 0 ns, total: 7 µs\n",
            "Wall time: 11.9 µs\n"
          ]
        },
        {
          "output_type": "execute_result",
          "data": {
            "text/plain": [
              "{6: 1, 5: 0, 1: 3}"
            ]
          },
          "metadata": {},
          "execution_count": 22
        }
      ]
    },
    {
      "cell_type": "code",
      "source": [
        "%%time\n",
        "coins = [1, 3, 4]\n",
        "amount = 6\n",
        "\n",
        "change_greedy(coins,amount)"
      ],
      "metadata": {
        "colab": {
          "base_uri": "https://localhost:8080/"
        },
        "id": "o79XXPg9F_0w",
        "outputId": "a992a0ea-36e1-4048-875f-50b083673870"
      },
      "execution_count": null,
      "outputs": [
        {
          "output_type": "stream",
          "name": "stdout",
          "text": [
            "CPU times: user 33 µs, sys: 3 µs, total: 36 µs\n",
            "Wall time: 40.3 µs\n"
          ]
        },
        {
          "output_type": "execute_result",
          "data": {
            "text/plain": [
              "{1: 6, 3: 0, 4: 0}"
            ]
          },
          "metadata": {},
          "execution_count": 28
        }
      ]
    },
    {
      "cell_type": "markdown",
      "source": [
        "### Recursive Change  \n",
        "$  MinNumCoins(9) = min(  $  \n",
        "        $MinNumCoins(9-6)+1, $  \n",
        "        $MinNumCoins(9-5)+1,$    \n",
        "        $MinNumCoins(9-1)+1$  \n",
        "$)$\n"
      ],
      "metadata": {
        "id": "Z6EcVuqG_o3P"
      }
    },
    {
      "cell_type": "code",
      "source": [
        "def change_recursive(coins,amount):\n",
        "    if amount == 0:\n",
        "        return 0\n",
        "    min_coins = float(\"inf\")\n",
        "    for coin in coins:\n",
        "        if amount - coin >= 0:\n",
        "            current_min_coins = change_recursive(coins, amount - coin)\n",
        "            if current_min_coins != float('inf'):\n",
        "                min_coins = min(min_coins, current_min_coins + 1)\n",
        "\n",
        "    return min_coins if min_coins != float(\"inf\") else -1"
      ],
      "metadata": {
        "id": "niF5SFK_7qHi"
      },
      "execution_count": null,
      "outputs": []
    },
    {
      "cell_type": "code",
      "source": [
        "%%time\n",
        "coins = [6,5,1]\n",
        "amount = 9\n",
        "\n",
        "change_recursive(coins,amount)"
      ],
      "metadata": {
        "colab": {
          "base_uri": "https://localhost:8080/"
        },
        "id": "PyAFeypjCVJy",
        "outputId": "52946f44-136e-428d-df82-46ef81acc6fd"
      },
      "execution_count": null,
      "outputs": [
        {
          "output_type": "stream",
          "name": "stdout",
          "text": [
            "CPU times: user 87 µs, sys: 0 ns, total: 87 µs\n",
            "Wall time: 91.6 µs\n"
          ]
        },
        {
          "output_type": "execute_result",
          "data": {
            "text/plain": [
              "4"
            ]
          },
          "metadata": {},
          "execution_count": 44
        }
      ]
    },
    {
      "cell_type": "code",
      "source": [
        "%%time\n",
        "coins = [1, 3, 4]\n",
        "amount = 6\n",
        "\n",
        "change_recursive(coins,amount)"
      ],
      "metadata": {
        "colab": {
          "base_uri": "https://localhost:8080/"
        },
        "id": "pnutc_TjCcNj",
        "outputId": "ecc82421-fcb1-4e00-e4cd-ef7ba55e2826"
      },
      "execution_count": null,
      "outputs": [
        {
          "output_type": "stream",
          "name": "stdout",
          "text": [
            "CPU times: user 70 µs, sys: 0 ns, total: 70 µs\n",
            "Wall time: 73.9 µs\n"
          ]
        },
        {
          "output_type": "execute_result",
          "data": {
            "text/plain": [
              "2"
            ]
          },
          "metadata": {},
          "execution_count": 45
        }
      ]
    },
    {
      "cell_type": "markdown",
      "source": [
        "### Dynamic Programming\n",
        "\n"
      ],
      "metadata": {
        "id": "AtIfb6heJWD1"
      }
    },
    {
      "cell_type": "code",
      "source": [
        "def change_dp(coins,amount):\n",
        "    dp = [float(\"inf\")] * (amount + 1)\n",
        "    dp[0] = 0\n",
        "    for i in range(1,amount +1):\n",
        "        for coin in coins:\n",
        "            if i >=coin:\n",
        "                dp[i] = min(dp[i],dp[i-coin]+1)\n",
        "\n",
        "    return dp[amount] if dp[amount] != float(\"inf\") else -1"
      ],
      "metadata": {
        "id": "lAE4p1ICGLEL"
      },
      "execution_count": null,
      "outputs": []
    },
    {
      "cell_type": "code",
      "source": [
        "%%time\n",
        "coins = [6,5,1]\n",
        "amount = 9\n",
        "\n",
        "change_dp(coins,amount)"
      ],
      "metadata": {
        "colab": {
          "base_uri": "https://localhost:8080/"
        },
        "id": "yh9uOaotL2rw",
        "outputId": "5b025342-0853-477f-981c-07662ba2edfc"
      },
      "execution_count": null,
      "outputs": [
        {
          "output_type": "stream",
          "name": "stdout",
          "text": [
            "CPU times: user 46 µs, sys: 4 µs, total: 50 µs\n",
            "Wall time: 55.1 µs\n"
          ]
        },
        {
          "output_type": "execute_result",
          "data": {
            "text/plain": [
              "4"
            ]
          },
          "metadata": {},
          "execution_count": 48
        }
      ]
    },
    {
      "cell_type": "code",
      "source": [
        "%%time\n",
        "coins = [1, 3, 4]\n",
        "amount = 6\n",
        "\n",
        "change_dp(coins,amount)"
      ],
      "metadata": {
        "colab": {
          "base_uri": "https://localhost:8080/"
        },
        "id": "e43oNhC5L5eq",
        "outputId": "46b7ea20-ea77-4440-9c02-002f3d8840c6"
      },
      "execution_count": null,
      "outputs": [
        {
          "output_type": "stream",
          "name": "stdout",
          "text": [
            "CPU times: user 47 µs, sys: 0 ns, total: 47 µs\n",
            "Wall time: 50.5 µs\n"
          ]
        },
        {
          "output_type": "execute_result",
          "data": {
            "text/plain": [
              "2"
            ]
          },
          "metadata": {},
          "execution_count": 49
        }
      ]
    },
    {
      "cell_type": "code",
      "source": [
        "coins = [1,8,20]\n",
        "amount = 24"
      ],
      "metadata": {
        "id": "IrUK1N7pL_Go"
      },
      "execution_count": null,
      "outputs": []
    },
    {
      "cell_type": "code",
      "source": [
        "coins.sort(reverse=True)\n",
        "num = 0\n",
        "for coin in coins:\n",
        "    num += amount // coin\n",
        "    amount = amount % coin\n",
        "num"
      ],
      "metadata": {
        "colab": {
          "base_uri": "https://localhost:8080/"
        },
        "id": "Eo51EpEFNTq3",
        "outputId": "6bdc5078-0d7c-4533-e0f3-c802e12d5bca"
      },
      "execution_count": null,
      "outputs": [
        {
          "output_type": "execute_result",
          "data": {
            "text/plain": [
              "5"
            ]
          },
          "metadata": {},
          "execution_count": 51
        }
      ]
    },
    {
      "cell_type": "code",
      "source": [
        "amount=997\n",
        "coins=[2,4,8]"
      ],
      "metadata": {
        "id": "t8DK2xlMPSEH"
      },
      "execution_count": null,
      "outputs": []
    },
    {
      "cell_type": "code",
      "source": [
        "dp= [float(\"inf\")] * (amount + 1)\n",
        "dp[0] = 0\n",
        "for i in range(1,amount+1):\n",
        "    for coin in coins:\n",
        "        if i >= coin:\n",
        "            dp[i] = min(dp[i],1+dp[i-coin])\n",
        "if dp[amount]!= float(\"inf\"):\n",
        "    print(dp[amount])\n",
        "else:\n",
        "    print(-1)\n"
      ],
      "metadata": {
        "colab": {
          "base_uri": "https://localhost:8080/"
        },
        "id": "9-YWAfBrN4NJ",
        "outputId": "b02d5cd6-4389-4d31-ad86-f173328e7e1e"
      },
      "execution_count": null,
      "outputs": [
        {
          "output_type": "stream",
          "name": "stdout",
          "text": [
            "-1\n"
          ]
        }
      ]
    },
    {
      "cell_type": "code",
      "source": [
        "import numpy as np\n",
        "def fast_rock(n,m):\n",
        "    matrix = np.ones((n+1,m+1))\n",
        "    for i in range(n+1):\n",
        "        for j in range(m+1):\n",
        "            if (i%2==0 or i ==0) and (j%2==0 or j ==0):\n",
        "                matrix[i][j]=0\n",
        "    return matrix"
      ],
      "metadata": {
        "id": "K4L7kYPtN_dZ"
      },
      "execution_count": null,
      "outputs": []
    },
    {
      "cell_type": "markdown",
      "source": [
        "## Editting Distance\n"
      ],
      "metadata": {
        "id": "Vm-1xMxGK18A"
      }
    },
    {
      "cell_type": "markdown",
      "source": [
        "例：編集距離を求める\n",
        "文字列𝐴=\"𝑘𝑖𝑡𝑡𝑒𝑛\"と𝐵=\"𝑠𝑖𝑡𝑡𝑖𝑛𝑔\"の編集距離を求めます。\n",
        "\n",
        "#####ステップ 1: 初期化  \n",
        "まず、以下のようにテーブル𝑑𝑝を作成します。このテーブルのサイズは\n",
        "(𝑚+1)×(𝑛+1)です。  \n",
        "ここで、𝑚 は文字列𝐴 の長さ、𝑛 は文字列𝐵\n",
        "の長さです。\n",
        "𝑑𝑝[𝑖][𝑗]は、文字列\n",
        "𝐴の最初の𝑖 文字と文字列𝐵の最初の𝑗 文字の間の編集距離を示します。  \n",
        "初期化のために、𝑑𝑝 の各セルを次のように設定します：  \n",
        "\n",
        "𝑑𝑝[0][0]=0（どちらも空文字列の編集距離は 0）  \n",
        "𝑑𝑝[𝑖][0]=𝑖（𝐴の最初の𝑖 文字を空文字にするためには𝑖 回削除が必要）  \n",
        "𝑑𝑝[0][𝑗]=𝑗\n",
        "（空文字列を𝐵の最初の𝑗 文字にするためには𝑗 回挿入が必要）  \n",
        "この初期化後のテーブルは以下のようになります：\n",
        "```\n",
        "   ''  s  i  t  t  i  n  g\n",
        "''  0  1  2  3  4  5  6  7\n",
        "k   1\n",
        "i   2\n",
        "t   3\n",
        "t   4\n",
        "e   5\n",
        "n   6\n",
        "```\n"
      ],
      "metadata": {
        "id": "IDqdm2o9K1fr"
      }
    },
    {
      "cell_type": "markdown",
      "source": [
        "ステップ 2: テーブルの埋め込み\n",
        "次に、テーブル 𝑑𝑝 の各セルを埋めていきます。各セル 𝑑𝑝[𝑖][𝑗]は以下のように計算されます：  \n",
        "\n",
        "𝑑𝑝[𝑖][𝑗]=min⁡\n",
        "(𝑑𝑝[𝑖−1][𝑗]+1,𝑑𝑝[𝑖][𝑗−1]+1,𝑑𝑝[𝑖−1][𝑗−1]+𝑐𝑜𝑠𝑡)  \n",
        "\n",
        "ここで、𝑐𝑜𝑠𝑡は𝐴[𝑖−1]=𝐵[𝑗−1]の場合は 0、それ以外の場合は 1 です。  \n",
        "計算例  \n",
        "𝑑𝑝[1][1] の計算:  \n",
        "比較:  \n",
        "𝐴[0]=′𝑘′ と𝐵[0]=′𝑠′  \n",
        "\n",
        "置換コスト:   \n",
        "𝑐𝑜𝑠𝑡=1（'k' を 's' に置換）  \n",
        "候補:  \n",
        "削除:   \n",
        "𝑑𝑝[0][1]+1=1+1=2  \n",
        "挿入:   \n",
        "𝑑𝑝[1][0]+1=1+1=2  \n",
        "置換:   \n",
        "𝑑𝑝[0][0]+𝑐𝑜𝑠𝑡=0+1=1  \n",
        "最小値を取る:   \n",
        "𝑑𝑝[1][1]=1  \n",
        "```\n",
        "   ''  s  i  t  t  i  n  g\n",
        "''  0  1  2  3  4  5  6  7\n",
        "k   1  1\n",
        "i   2\n",
        "t   3\n",
        "t   4\n",
        "e   5\n",
        "n   6\n",
        "```\n",
        "\n",
        "𝑑𝑝[1][2] の計算:  \n",
        "比較:   \n",
        "𝐴[0]=′𝑘′ と𝐵[1]=′𝑖′  \n",
        "置換コスト:   \n",
        "𝑐𝑜𝑠𝑡=1  \n",
        "候補:  \n",
        "削除: 𝑑𝑝[0][2]+1=2+1=3  \n",
        "挿入: 𝑑𝑝[1][1]+1=1+1=2  \n",
        "置換: 𝑑𝑝[0][1]+𝑐𝑜𝑠𝑡=1+1=2\n",
        "最小値を取る:  \n",
        "𝑑𝑝[1][2]=2\n",
        "```\n",
        "   ''  s  i  t  t  i  n  g\n",
        "''  0  1  2  3  4  5  6  7\n",
        "k   1  1  2\n",
        "i   2\n",
        "t   3\n",
        "t   4\n",
        "e   5\n",
        "n   6\n",
        "\n",
        "```\n",
        "以上、最後まで計算する。\n",
        "```\n",
        "   ''  s  i  t  t  i  n  g\n",
        "''  0  1  2  3  4  5  6  7\n",
        "k   1  1  2  3  4  5  6  7\n",
        "i   2  2  1  2  3  4  5  6\n",
        "t   3  3  2  1  2  3  4  5\n",
        "t   4  4  3  2  1  2  3  4\n",
        "e   5  5  4  3  2  2  3  4\n",
        "n   6  6  5  4  3  3  2  3\n",
        "\n",
        "```\n",
        "##### 最終結果\n",
        "最終的な編集距離は𝑑𝑝[6][7]=3です。  \n",
        "つまり、「kitten」を「sitting」に変換するために必要な操作は3回です。\n",
        "\n",
        "この操作には以下が含まれます：\n",
        "\n",
        "1. 'k' を 's' に置換\n",
        "2. 'e' を 'i' に置換\n",
        "3. 最後に 'g' を追加"
      ],
      "metadata": {
        "id": "zRaQHSw9ZTtw"
      }
    },
    {
      "cell_type": "code",
      "source": [
        "str1 = \"kitten\"\n",
        "str2 = \"sitting\""
      ],
      "metadata": {
        "id": "dYfv2qE2dBCR"
      },
      "execution_count": 18,
      "outputs": []
    },
    {
      "cell_type": "code",
      "source": [
        "def editing_distance(a, b):\n",
        "    m = len(a)\n",
        "    n = len(b)\n",
        "    dp = [[0] * (n + 1) for _ in range(m + 1)]\n",
        "\n",
        "    for i in range(m + 1):\n",
        "        for j in range(n + 1):\n",
        "            if i == 0:\n",
        "                dp[i][j] = j  # 第一行の初期化\n",
        "            elif j == 0:\n",
        "                dp[i][j] = i  # 第一列の初期化\n",
        "            else:\n",
        "                if a[i - 1] == b[j - 1]:\n",
        "                    cost = 0\n",
        "                else:\n",
        "                    cost = 1\n",
        "\n",
        "                dp[i][j] = min(dp[i - 1][j] + 1,     # 削除\n",
        "                               dp[i][j - 1] + 1,     # 挿入\n",
        "                               dp[i - 1][j - 1] + cost)  # 置換\n",
        "\n",
        "    return dp[m][n]"
      ],
      "metadata": {
        "id": "9-4BUEJ6dK3i"
      },
      "execution_count": 20,
      "outputs": []
    },
    {
      "cell_type": "code",
      "source": [
        "editing_distance(str1,str2)"
      ],
      "metadata": {
        "colab": {
          "base_uri": "https://localhost:8080/"
        },
        "id": "nF7J8gI0TeT-",
        "outputId": "2bb29f8c-edb6-41d2-e4a7-9c81bf2d353e"
      },
      "execution_count": 21,
      "outputs": [
        {
          "output_type": "execute_result",
          "data": {
            "text/plain": [
              "3"
            ]
          },
          "metadata": {},
          "execution_count": 21
        }
      ]
    },
    {
      "cell_type": "code",
      "source": [
        "!pip install Levenshtein"
      ],
      "metadata": {
        "colab": {
          "base_uri": "https://localhost:8080/"
        },
        "id": "lX7IsdCJLWWk",
        "outputId": "c17d87f5-7e16-42e7-d2a9-9165e8630d4d"
      },
      "execution_count": 22,
      "outputs": [
        {
          "output_type": "stream",
          "name": "stdout",
          "text": [
            "Requirement already satisfied: Levenshtein in /usr/local/lib/python3.10/dist-packages (0.25.1)\n",
            "Requirement already satisfied: rapidfuzz<4.0.0,>=3.8.0 in /usr/local/lib/python3.10/dist-packages (from Levenshtein) (3.9.3)\n"
          ]
        }
      ]
    },
    {
      "cell_type": "code",
      "source": [
        "import Levenshtein\n",
        "print(Levenshtein.distance(str1,str2))"
      ],
      "metadata": {
        "colab": {
          "base_uri": "https://localhost:8080/"
        },
        "id": "pcV23PQ1dEPB",
        "outputId": "d783d107-5d8d-4842-9d2c-c56cbe0a3e79"
      },
      "execution_count": 23,
      "outputs": [
        {
          "output_type": "stream",
          "name": "stdout",
          "text": [
            "3\n"
          ]
        }
      ]
    },
    {
      "cell_type": "code",
      "source": [
        "str3 = \"editting\"\n",
        "str4 = \"distance\""
      ],
      "metadata": {
        "id": "Dh8hIW4DdNJQ"
      },
      "execution_count": 24,
      "outputs": []
    },
    {
      "cell_type": "code",
      "source": [
        "editing_distance(str3,str4)"
      ],
      "metadata": {
        "colab": {
          "base_uri": "https://localhost:8080/"
        },
        "id": "be0jByWVfr1F",
        "outputId": "5ffa5667-962c-41cd-8fbf-2ad5a6e66135"
      },
      "execution_count": 25,
      "outputs": [
        {
          "output_type": "execute_result",
          "data": {
            "text/plain": [
              "5"
            ]
          },
          "metadata": {},
          "execution_count": 25
        }
      ]
    },
    {
      "cell_type": "code",
      "source": [
        "Levenshtein.distance(str3,str4)"
      ],
      "metadata": {
        "colab": {
          "base_uri": "https://localhost:8080/"
        },
        "id": "YK9Ke6CNfu9h",
        "outputId": "7344e31f-a3a1-4d0f-e874-397664f40baa"
      },
      "execution_count": 28,
      "outputs": [
        {
          "output_type": "execute_result",
          "data": {
            "text/plain": [
              "5"
            ]
          },
          "metadata": {},
          "execution_count": 28
        }
      ]
    },
    {
      "cell_type": "code",
      "source": [],
      "metadata": {
        "id": "NAWnbcw0fz_Y"
      },
      "execution_count": null,
      "outputs": []
    }
  ]
}