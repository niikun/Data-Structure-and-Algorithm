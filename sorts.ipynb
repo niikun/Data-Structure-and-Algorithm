{
  "nbformat": 4,
  "nbformat_minor": 0,
  "metadata": {
    "colab": {
      "provenance": [],
      "authorship_tag": "ABX9TyNOtnhYO7rbda4g89sDKfRi",
      "include_colab_link": true
    },
    "kernelspec": {
      "name": "python3",
      "display_name": "Python 3"
    },
    "language_info": {
      "name": "python"
    }
  },
  "cells": [
    {
      "cell_type": "markdown",
      "metadata": {
        "id": "view-in-github",
        "colab_type": "text"
      },
      "source": [
        "<a href=\"https://colab.research.google.com/github/niikun/Data-Structure-and-Algorithm/blob/main/sorts.ipynb\" target=\"_parent\"><img src=\"https://colab.research.google.com/assets/colab-badge.svg\" alt=\"Open In Colab\"/></a>"
      ]
    },
    {
      "cell_type": "markdown",
      "source": [
        "#Bubble Sort\n"
      ],
      "metadata": {
        "id": "7VWHRWxHejQd"
      }
    },
    {
      "cell_type": "code",
      "source": [
        "from typing import List"
      ],
      "metadata": {
        "id": "RoKOlGr1fkgm"
      },
      "execution_count": 10,
      "outputs": []
    },
    {
      "cell_type": "code",
      "source": [
        "num = [2,5,1,8,7,3]"
      ],
      "metadata": {
        "id": "6eTU8aRfei7k"
      },
      "execution_count": 11,
      "outputs": []
    },
    {
      "cell_type": "code",
      "execution_count": 12,
      "metadata": {
        "id": "kxulyonieTkB"
      },
      "outputs": [],
      "source": [
        "def bubble_sort(num:List[int])->List[int]:\n",
        "    for i in range(len(num)-1):\n",
        "        for j in range(len(num)-1):\n",
        "            if num[j]>num[j+1]:\n",
        "                num[j],num[j+1] = num[j+1],num[j]\n",
        "    return num"
      ]
    },
    {
      "cell_type": "code",
      "source": [
        "import random\n",
        "num = [random.randint(0,100) for _ in range(20)]\n",
        "num"
      ],
      "metadata": {
        "colab": {
          "base_uri": "https://localhost:8080/"
        },
        "id": "2qP5DO2AfTtF",
        "outputId": "a235fbc3-6234-4d24-cd6e-4c15a1dcb925"
      },
      "execution_count": 22,
      "outputs": [
        {
          "output_type": "execute_result",
          "data": {
            "text/plain": [
              "[12, 63, 32, 34, 59, 93, 72, 11, 2, 23, 84, 100, 98, 13, 5, 82, 31, 50, 88, 30]"
            ]
          },
          "metadata": {},
          "execution_count": 22
        }
      ]
    },
    {
      "cell_type": "code",
      "source": [
        "%%time\n",
        "bubble_sort(num)"
      ],
      "metadata": {
        "colab": {
          "base_uri": "https://localhost:8080/"
        },
        "id": "5RyPMblafbMa",
        "outputId": "e3bb8395-60ab-473a-ade0-98a640aa9064"
      },
      "execution_count": 23,
      "outputs": [
        {
          "output_type": "stream",
          "name": "stdout",
          "text": [
            "CPU times: user 59 µs, sys: 7 µs, total: 66 µs\n",
            "Wall time: 69.4 µs\n"
          ]
        },
        {
          "output_type": "execute_result",
          "data": {
            "text/plain": [
              "[2, 5, 11, 12, 13, 23, 30, 31, 32, 34, 50, 59, 63, 72, 82, 84, 88, 93, 98, 100]"
            ]
          },
          "metadata": {},
          "execution_count": 23
        }
      ]
    },
    {
      "cell_type": "markdown",
      "source": [
        "# QuickSort"
      ],
      "metadata": {
        "id": "xGuO5YxVgYsG"
      }
    },
    {
      "cell_type": "code",
      "source": [
        "def quick_sort(num:List[int])->List[int]:\n",
        "    if len(num)<=1:\n",
        "        return num\n",
        "\n",
        "    pivot = num[0]\n",
        "    left = []\n",
        "    right = []\n",
        "    center = [pivot]\n",
        "    for i in range(1,len(num)):\n",
        "        if num[i]<pivot:\n",
        "            left.append(num[i])\n",
        "        elif num[i]>pivot:\n",
        "            right.append(num[i])\n",
        "        else:\n",
        "            center.append(num[i])\n",
        "    return quick_sort(left)+center+quick_sort(right)\n"
      ],
      "metadata": {
        "id": "0AxQJ-6ygObP"
      },
      "execution_count": 18,
      "outputs": []
    },
    {
      "cell_type": "code",
      "source": [
        "num = [2,5,1,8,7,3]\n",
        "quick_sort(num)"
      ],
      "metadata": {
        "colab": {
          "base_uri": "https://localhost:8080/"
        },
        "id": "fjuVXCYyh10B",
        "outputId": "72b78f21-9a8d-4a01-a6f0-54122b7687b7"
      },
      "execution_count": 19,
      "outputs": [
        {
          "output_type": "execute_result",
          "data": {
            "text/plain": [
              "[1, 2, 3, 5, 7, 8]"
            ]
          },
          "metadata": {},
          "execution_count": 19
        }
      ]
    },
    {
      "cell_type": "code",
      "source": [
        "import random\n",
        "num = [random.randint(0,100) for _ in range(20)]\n",
        "num"
      ],
      "metadata": {
        "colab": {
          "base_uri": "https://localhost:8080/"
        },
        "id": "_PpQMocbh6fk",
        "outputId": "48619c89-ef2a-4c1c-cdf6-8798ff29c8a2"
      },
      "execution_count": 24,
      "outputs": [
        {
          "output_type": "execute_result",
          "data": {
            "text/plain": [
              "[55, 26, 63, 51, 57, 14, 86, 74, 65, 38, 4, 83, 76, 81, 3, 33, 26, 59, 42, 38]"
            ]
          },
          "metadata": {},
          "execution_count": 24
        }
      ]
    },
    {
      "cell_type": "code",
      "source": [
        "%%time\n",
        "quick_sort(num)"
      ],
      "metadata": {
        "colab": {
          "base_uri": "https://localhost:8080/"
        },
        "id": "jYa2No13jFw4",
        "outputId": "b67ecc84-f6cf-4480-c31b-42abf0ebb499"
      },
      "execution_count": 25,
      "outputs": [
        {
          "output_type": "stream",
          "name": "stdout",
          "text": [
            "CPU times: user 35 µs, sys: 4 µs, total: 39 µs\n",
            "Wall time: 42.9 µs\n"
          ]
        },
        {
          "output_type": "execute_result",
          "data": {
            "text/plain": [
              "[3, 4, 14, 26, 26, 33, 38, 38, 42, 51, 55, 57, 59, 63, 65, 74, 76, 81, 83, 86]"
            ]
          },
          "metadata": {},
          "execution_count": 25
        }
      ]
    },
    {
      "cell_type": "code",
      "source": [],
      "metadata": {
        "id": "EttUQfLBjQY3"
      },
      "execution_count": null,
      "outputs": []
    }
  ]
}